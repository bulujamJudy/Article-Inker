{
 "cells": [
  {
   "cell_type": "markdown",
   "metadata": {
    "collapsed": false,
    "id": "jQu4NqtgVF8l"
   },
   "source": [
    "# Build a Flashcard Game! \n",
    "\n",
    "We will be building a flashcard guessing game where users can guess fighting stances in Karate.\n",
    "\n",
    "\n",
    "\n",
    "> Here are the rules:\n",
    "* The user will be given the name of a fighting stance and will have to guess its definition/description.\n",
    "* Each time the user guesses the description right, the user gets a point.\n",
    "* The game will continue until there are no more stance descriptions left to guess.\n",
    "* After running out of stances, the user will see how many points they earn and will be asked if they want to play again!\n",
    "\n",
    "You can think of this as having the front of the flash card being a fighting stance and the back of the flash card being it's description. Let's get started.\n",
    "\n",
    "\n",
    "\n"
   ]
  },
  {
   "cell_type": "markdown",
   "metadata": {
    "collapsed": false,
    "id": "cuw7LZy3VF8q"
   },
   "source": [
    "## The Stances!\n",
    "\n",
    "Here are the stances:\n",
    "\n",
    "* Shezentai: Natural Stance\n",
    "* Choku-Zuki: Straight Punch\n",
    "* Oi-Zuki: Front Lunge Punch\n",
    "* Gyaku-Zuki: Reverse Punch\n",
    "* Gedan Barai: Down Block\n",
    "* Age-Uke: Rising Block\n",
    "\n",
    "If you're curious here are some photos of the stances. \n",
    "<br>\n",
    "<br>\n",
    "\n",
    "<center />\n",
    "<img src=\"https://globalmartialarts.university/wp-content/uploads/2021/01/Shotokan-Beginners-Guide-Infographic-2.jpg\" width=560 height=660 />\n",
    "\n"
   ]
  },
  {
   "cell_type": "markdown",
   "metadata": {
    "collapsed": false,
    "id": "RHa0Vb_rXjQr"
   },
   "source": [
    "## Some python help\n",
    "\n",
    "Here is some python code that might help you on your journey! Mainly you should have a good idea of how dictionaries function, since they work pretty similar to flashcards."
   ]
  },
  {
   "cell_type": "markdown",
   "metadata": {
    "collapsed": false,
    "id": "yr1mQTCVfmhM"
   },
   "source": [
    "### Dictionaries Review"
   ]
  },
  {
   "cell_type": "code",
   "execution_count": 6,
   "metadata": {
    "collapsed": false,
    "id": "3x-2-EJ4Xi7t"
   },
   "outputs": [
   ],
   "source": [
    "# create a dictionary with key value pairs. I'm just going to use some words and defintions \n",
    "my_dictionary = {\"dog\": \"a domesticated carnivorous mammal that typically has a long snout\",\n",
    "                 \"cat\": \"a small domesticated carnivorous mammal with soft fur\",\n",
    "                 \"bunny\": \"a rabbit, especially a young one.\",\n",
    "                 \"timberwolves\": \"wolves of a large variety found mainly in northern North America, with gray brindled fur.\"\n",
    "                 }"
   ]
  },
  {
   "cell_type": "code",
   "execution_count": 7,
   "metadata": {
    "colab": {
     "base_uri": "https://localhost:8080/"
    },
    "collapsed": false,
    "id": "dzYfo-ciVF8r",
    "outputId": "ffd2aefa-ce80-465b-c86e-eeb4dce7fcd3"
   },
   "outputs": [
    {
     "name": "stdout",
     "output_type": "stream",
     "text": [
      "a dog is... a domesticated carnivorous mammal that typically has a long snout\n"
     ]
    }
   ],
   "source": [
    "# access the value from a dictionary key\n",
    "print(\"a dog is...\", my_dictionary[\"dog\"])"
   ]
  },
  {
   "cell_type": "code",
   "execution_count": 8,
   "metadata": {
    "colab": {
     "base_uri": "https://localhost:8080/"
    },
    "collapsed": false,
    "id": "OZPVqiR8Yzxk",
    "outputId": "4bcfef45-cc37-409b-c87d-76d12e805c8a"
   },
   "outputs": [
    {
     "name": "stdout",
     "output_type": "stream",
     "text": [
      "['dog', 'cat', 'bunny', 'timberwolves']\n"
     ]
    }
   ],
   "source": [
    "#access all of the keys and store as a list\n",
    "animals = list(my_dictionary.keys())\n",
    "print(animals)"
   ]
  },
  {
   "cell_type": "code",
   "execution_count": 9,
   "metadata": {
    "colab": {
     "base_uri": "https://localhost:8080/"
    },
    "collapsed": false,
    "id": "vetkiJW3ea8T",
    "outputId": "88eeccc4-5786-46d4-db6b-335a4347247c"
   },
   "outputs": [
    {
     "name": "stdout",
     "output_type": "stream",
     "text": [
      "dict_values(['a domesticated carnivorous mammal that typically has a long snout', 'a small domesticated carnivorous mammal with soft fur', 'a rabbit, especially a young one.', 'wolves of a large variety found mainly in northern North America, with gray brindled fur.'])\n"
     ]
    }
   ],
   "source": [
    "# print the values of a dictionary\n",
    "print(my_dictionary.values())"
   ]
  },
  {
   "cell_type": "code",
   "execution_count": 10,
   "metadata": {
    "colab": {
     "base_uri": "https://localhost:8080/"
    },
    "collapsed": false,
    "id": "iWans4X-Y9qL",
    "outputId": "ecf572ad-6727-4b73-8495-e5065acac24b"
   },
   "outputs": [
    {
     "name": "stdout",
     "output_type": "stream",
     "text": [
      "dog:  a domesticated carnivorous mammal that typically has a long snout\n",
      "cat:  a small domesticated carnivorous mammal with soft fur\n",
      "bunny:  a rabbit, especially a young one.\n",
      "timberwolves:  wolves of a large variety found mainly in northern North America, with gray brindled fur.\n"
     ]
    }
   ],
   "source": [
    "# you can use these keys to access the dictionary\n",
    "for i in animals:\n",
    "  print(i + \": \", my_dictionary[i])"
   ]
  },
  {
   "cell_type": "code",
   "execution_count": 11,
   "metadata": {
    "collapsed": false,
    "id": "Dj_Cw7cefe-H"
   },
   "outputs": [
   ],
   "source": [
    "karate_stances = {}"
   ]
  },
  {
   "cell_type": "markdown",
   "metadata": {
    "collapsed": false,
    "id": "wDh9B_Prfkgr"
   },
   "source": [
    "### String Formatting\n",
    "Change the code below to see how you can format strings."
   ]
  },
  {
   "cell_type": "code",
   "execution_count": 12,
   "metadata": {
    "colab": {
     "base_uri": "https://localhost:8080/"
    },
    "collapsed": false,
    "id": "nj56EG_0fpHN",
    "outputId": "cbfdf989-708e-4b36-b5f3-8f7760e47c76"
   },
   "outputs": [
    {
     "name": "stdout",
     "output_type": "stream",
     "text": [
      "We are the knights who say \"Ni!\"\n"
     ]
    }
   ],
   "source": [
    "# Basic usage of the str.format() method looks like this:\n",
    "print('We are the {} who say \"{}!\"'.format('knights', 'Ni'))"
   ]
  },
  {
   "cell_type": "code",
   "execution_count": 13,
   "metadata": {
    "collapsed": false,
    "id": "tbZG23SufsPA"
   },
   "outputs": [
    {
     "name": "stdout",
     "output_type": "stream",
     "text": [
      "spam and eggs\n"
     ]
    }
   ],
   "source": [
    "# A number in the brackets can be used to refer to the position of the object passed into the str.format() method.\n",
    "print('{0} and {1}'.format('spam', 'eggs'))"
   ]
  },
  {
   "cell_type": "code",
   "execution_count": 14,
   "metadata": {
    "colab": {
     "base_uri": "https://localhost:8080/"
    },
    "collapsed": false,
    "id": "zM8v0k_Wf0hr",
    "outputId": "9b19dcfe-f873-4947-8b8a-8caaf0ff9187"
   },
   "outputs": [
    {
     "name": "stdout",
     "output_type": "stream",
     "text": [
      "eggs and spam\n"
     ]
    }
   ],
   "source": [
    "print('{1} and {0}'.format('spam', 'eggs'))"
   ]
  },
  {
   "cell_type": "code",
   "execution_count": 15,
   "metadata": {
    "colab": {
     "base_uri": "https://localhost:8080/"
    },
    "collapsed": false,
    "id": "WTuHIy5Wf6gg",
    "outputId": "33dc1f68-d3d1-41db-8abb-82fe710cec58"
   },
   "outputs": [
    {
     "name": "stdout",
     "output_type": "stream",
     "text": [
      "This spam is absolutely horrible.\n"
     ]
    }
   ],
   "source": [
    "# If keyword arguments are used in the str.format() method, their values are referred to by using the name of the argument.\n",
    "print('This {food} is {adjective}.'.format(food='spam', adjective='absolutely horrible'))"
   ]
  },
  {
   "cell_type": "code",
   "execution_count": 0,
   "metadata": {
    "collapsed": false,
    "id": "cVE5APVdfttS"
   },
   "outputs": [
   ],
   "source": [
    "'''\n",
    "your code here: experiment with string formatting\n",
    "'''"
   ]
  },
  {
   "cell_type": "markdown",
   "metadata": {
    "collapsed": false,
    "id": "HxiI3weuVF8t"
   },
   "source": [
    "## Task 1: Create the Flashcards \n",
    "In this section you should create your flashcards using a dictionary that includes each karate stance (key) and its definition (value).\n",
    "\n",
    "Experiment by using some dictionary functions and save the keys of the dictionary in a list."
   ]
  },
  {
   "cell_type": "code",
   "execution_count": 16,
   "metadata": {
    "collapsed": false,
    "id": "hTUm1rPfVF8t"
   },
   "outputs": [
   ],
   "source": [
    "# create your flashcards with key: Karate Stance and value: description\n",
    "flashcards = {\n",
    "\"Shezentai\": \"Natural Stance\",\n",
    "\"Choku-Zuki\": \"Straight Punch\",\n",
    "\"Oi-Zuki\": \"Front Lunge Punch\",\n",
    "\"Gyaku-Zuki\": \"Reverse Punch\",\n",
    "\"Gedan Barai\": \"Down Block\",\n",
    "\"Age-Uke\": \"Rising Block\"}"
   ]
  },
  {
   "cell_type": "code",
   "execution_count": 17,
   "metadata": {
    "collapsed": false,
    "id": "wlY-h7eVVF8u"
   },
   "outputs": [
    {
     "name": "stdout",
     "output_type": "stream",
     "text": [
      "dict_values(['Natural Stance', 'Straight Punch', 'Front Lunge Punch', 'Reverse Punch', 'Down Block', 'Rising Block'])\n"
     ]
    }
   ],
   "source": [
    "#print all the values\n",
    "print(flashcards.values())"
   ]
  },
  {
   "cell_type": "code",
   "execution_count": 18,
   "metadata": {
    "collapsed": false,
    "id": "PyOMxguiVF8v"
   },
   "outputs": [
    {
     "name": "stdout",
     "output_type": "stream",
     "text": [
      "['Shezentai', 'Choku-Zuki', 'Oi-Zuki', 'Gyaku-Zuki', 'Gedan Barai', 'Age-Uke']\n"
     ]
    }
   ],
   "source": [
    "#put all of the keys into a list so you have a \"deck\" of flashcards.\n",
    "Karate_stances = list(flashcards.keys())\n",
    "print(Karate_stances)"
   ]
  },
  {
   "cell_type": "markdown",
   "metadata": {
    "collapsed": false,
    "id": "acolMI3gVF8w"
   },
   "source": [
    "## Task 2: Shuffle the list \n",
    "\n",
    "At this point we have a \"deck\" of flashcards (a list of key values for our dictionary). Now you should do some research on how we can `shuffle()` this deck. \n",
    "\n",
    "We recommend checking out python's [`random` library](https://docs.python.org/3/library/random.html) to see how to shuffle a list! You also could google \"how to shuffle a list python\".\n",
    "\n"
   ]
  },
  {
   "cell_type": "code",
   "execution_count": 19,
   "metadata": {
    "collapsed": false,
    "id": "w-IuZlrVVF8x"
   },
   "outputs": [
    {
     "name": "stdout",
     "output_type": "stream",
     "text": [
      "['Choku-Zuki', 'Gyaku-Zuki', 'Age-Uke', 'Shezentai', 'Oi-Zuki', 'Gedan Barai']\n"
     ]
    }
   ],
   "source": [
    "# shuffle your deck of flashcards (list of keys) and print the new order! \n",
    "import random\n",
    "random.shuffle(Karate_stances)\n",
    "print(Karate_stances)"
   ]
  },
  {
   "cell_type": "markdown",
   "metadata": {
    "collapsed": false,
    "id": "EL8bZ5XLVF8z"
   },
   "source": [
    "## Task 3: Set up the game\n",
    "\n",
    "Now here is where we set up the game!\n",
    "\n",
    "* Create a variable to keep track of how many guesses user has correct\n",
    "* Create a loop that:\n",
    "\n",
    "> 1. Goes through each word in the list of keys and print this word for the user to guess.\n",
    "\n",
    "2. Asks the user to `input` their answer (you might have to look up how to get input from a user in python).\n",
    "3. Checks whether their answer is right, and adds 1 to the variable for correct guesses \n",
    "4. Goes to the next word and repeats steps 1-3.\n",
    "\n",
    "* After the loop, print how many answers the users got correct and how many they got wrong.\n",
    "\n",
    "<br>\n",
    "\n",
    "Note: For repetitive tasks in python, we usually use a `while` or a `for` loop. `While` loops continue executing code in a loop until a certain condition is met, and `for` loops typically are used for iterating across a piece of data. \n",
    "\n",
    "> DISCUSS: Discuss with your team and instructor which type of loop would be better for this case.\n",
    "\n"
   ]
  },
  {
   "cell_type": "code",
   "execution_count": 24,
   "metadata": {
    "cocalc": {
     "outputs": {
      "0": {
       "name": "input",
       "opts": {
        "password": false,
        "prompt": "Enter the description of Choku-Zuki : "
       },
       "output_type": "stream",
       "value": "Straight Punch"
      },
      "1": {
       "name": "input",
       "opts": {
        "password": false,
        "prompt": "Enter the description of Gyaku-Zuki : "
       },
       "output_type": "stream"
      },
      "10": {
       "name": "input",
       "opts": {
        "password": false,
        "prompt": "Enter the description of Gedan Barai : "
       },
       "output_type": "stream",
       "value": "wad"
      },
      "11": {
       "name": "input",
       "opts": {
        "password": false,
        "prompt": "ANSWER: "
       },
       "output_type": "stream",
       "value": ""
      },
      "3": {
       "name": "input",
       "opts": {
        "password": false,
        "prompt": "ANSWER: "
       },
       "output_type": "stream",
       "value": ""
      },
      "4": {
       "name": "input",
       "opts": {
        "password": false,
        "prompt": "Enter the description of Age-Uke : "
       },
       "output_type": "stream",
       "value": "dsa"
      },
      "5": {
       "name": "input",
       "opts": {
        "password": false,
        "prompt": "ANSWER: "
       },
       "output_type": "stream",
       "value": ""
      },
      "6": {
       "name": "input",
       "opts": {
        "password": false,
        "prompt": "Enter the description of Shezentai : "
       },
       "output_type": "stream",
       "value": "wad"
      },
      "7": {
       "name": "input",
       "opts": {
        "password": false,
        "prompt": "ANSWER: "
       },
       "output_type": "stream",
       "value": ""
      },
      "8": {
       "name": "input",
       "opts": {
        "password": false,
        "prompt": "Enter the description of Oi-Zuki : "
       },
       "output_type": "stream",
       "value": "front LunGe Punch"
      },
      "9": {
       "name": "input",
       "opts": {
        "password": false,
        "prompt": "ANSWER: "
       },
       "output_type": "stream",
       "value": ""
      }
     }
    },
    "collapsed": false,
    "id": "LAIfkxd4VF80"
   },
   "outputs": [
    {
     "name": "stdout",
     "output_type": "stream",
     "text": "Enter the description of Choku-Zuki :  Straight Punch"
    },
    {
     "name": "stdout",
     "output_type": "stream",
     "text": "Enter the description of Gyaku-Zuki :  "
    },
    {
     "name": "stdout",
     "output_type": "stream",
     "text": [
      "Correct! You get 1 point.\n",
      "_________________________\n"
     ],
     "value": "Reverse Punch"
    },
    {
     "name": "stdout",
     "output_type": "stream",
     "text": "ANSWER:  "
    },
    {
     "name": "stdout",
     "output_type": "stream",
     "text": "Enter the description of Age-Uke :  dsa"
    },
    {
     "name": "stdout",
     "output_type": "stream",
     "text": "ANSWER:  "
    },
    {
     "name": "stdout",
     "output_type": "stream",
     "text": "Enter the description of Shezentai :  wad"
    },
    {
     "name": "stdout",
     "output_type": "stream",
     "text": "ANSWER:  "
    },
    {
     "name": "stdout",
     "output_type": "stream",
     "text": "Enter the description of Oi-Zuki :  front LunGe Punch"
    },
    {
     "name": "stdout",
     "output_type": "stream",
     "text": "ANSWER:  "
    },
    {
     "name": "stdout",
     "output_type": "stream",
     "text": "Enter the description of Gedan Barai :  wad"
    },
    {
     "name": "stdout",
     "output_type": "stream",
     "text": "ANSWER:  "
    }
   ],
   "source": [
    "#Set variable for correct guesses\n",
    "#Karate_stances = list(flashcards.keys())\n",
    "points = 0\n",
    "\n",
    "#Create a loop that iterates through the list of keys\n",
    "for key in Karate_stances:\n",
    "    \n",
    "    #inside loop: print the word for the user to guess the description of and get the user's guess for it's description.\n",
    "    guess = input('Enter the description of {} : '.format(key)).lower()\n",
    "    answer = flashcards[key].lower()\n",
    "\n",
    "    #print the actual description of the word.\n",
    "\n",
    "    #if the user is correct, let them know and add 1 point to their correct guesses.\n",
    "    if guess == answer:\n",
    "        print(\"Correct! You get 1 point.\")\n",
    "        points+=1\n",
    "    else:\n",
    "        print(\"Incorrect! The actual description is:\",answer)\n",
    "    print('_'*25)\n",
    "\n",
    "# tell the user how many they had correct out of total\n",
    "\n",
    "print(\"You get {} points out of {}\".format(points,len(Karate_stances)))"
   ]
  },
  {
   "cell_type": "markdown",
   "metadata": {
    "collapsed": false,
    "id": "mYVCZ2RKVF80"
   },
   "source": [
    "## Task 4: Put everything together. \n",
    "\n",
    "Create an outer loop to ask the user if they want to play the game. If the answer is yes, keep running the program. Keep doing this until they enter something other than yes. \n",
    "\n",
    "Consolidate all of your other code inside of this loop!\n",
    "\n"
   ]
  },
  {
   "cell_type": "code",
   "execution_count": 2,
   "metadata": {
    "cocalc": {
     "outputs": {
      "0": {
       "name": "input",
       "opts": {
        "password": false,
        "prompt": "Would you like to play a flashcard game? "
       },
       "output_type": "stream",
       "value": "yes"
      },
      "1": {
       "name": "input",
       "opts": {
        "password": false,
        "prompt": "Enter the description of Gedan Barai : "
       },
       "output_type": "stream",
       "value": ""
      },
      "10": {
       "name": "input",
       "opts": {
        "password": false,
        "prompt": "ANSWER: "
       },
       "output_type": "stream",
       "value": "d"
      },
      "11": {
       "name": "input",
       "opts": {
        "password": false,
        "prompt": "Enter the description of Choku-Zuki : "
       },
       "output_type": "stream",
       "value": ""
      },
      "12": {
       "name": "input",
       "opts": {
        "password": false,
        "prompt": "ANSWER: "
       },
       "output_type": "stream",
       "value": "f"
      },
      "14": {
       "name": "input",
       "opts": {
        "password": false,
        "prompt": "Play again? ('y' to continue) "
       },
       "output_type": "stream",
       "value": "n"
      },
      "2": {
       "name": "input",
       "opts": {
        "password": false,
        "prompt": "Enter the description of Age-Uke : "
       },
       "output_type": "stream"
      },
      "4": {
       "name": "input",
       "opts": {
        "password": false,
        "prompt": "ANSWER: "
       },
       "output_type": "stream",
       "value": "a"
      },
      "5": {
       "name": "input",
       "opts": {
        "password": false,
        "prompt": "Enter the description of Gyaku-Zuki : "
       },
       "output_type": "stream",
       "value": ""
      },
      "6": {
       "name": "input",
       "opts": {
        "password": false,
        "prompt": "ANSWER: "
       },
       "output_type": "stream",
       "value": "f"
      },
      "7": {
       "name": "input",
       "opts": {
        "password": false,
        "prompt": "Enter the description of Oi-Zuki : "
       },
       "output_type": "stream",
       "value": ""
      },
      "8": {
       "name": "input",
       "opts": {
        "password": false,
        "prompt": "ANSWER: "
       },
       "output_type": "stream",
       "value": "a"
      },
      "9": {
       "name": "input",
       "opts": {
        "password": false,
        "prompt": "Enter the description of Shezentai : "
       },
       "output_type": "stream",
       "value": ""
      }
     }
    },
    "collapsed": false,
    "id": "unJkdlnQVF81"
   },
   "outputs": [
    {
     "name": "stdout",
     "output_type": "stream",
     "text": "Would you like to play a flashcard game?  yes"
    },
    {
     "name": "stdout",
     "output_type": "stream",
     "text": "Enter the description of Gedan Barai :  "
    },
    {
     "name": "stdout",
     "output_type": "stream",
     "text": "Enter the description of Age-Uke :  "
    },
    {
     "name": "stdout",
     "output_type": "stream",
     "text": [
      "Incorrect! The actual description is: down block\n",
      "_________________________\n"
     ],
     "value": ""
    },
    {
     "name": "stdout",
     "output_type": "stream",
     "text": [
      "Incorrect! The actual description is: rising block\n",
      "_________________________\n"
     ]
    },
    {
     "name": "stdout",
     "output_type": "stream",
     "text": "Enter the description of Gyaku-Zuki :  "
    },
    {
     "name": "stdout",
     "output_type": "stream",
     "text": [
      "Incorrect! The actual description is: reverse punch\n",
      "_________________________\n"
     ]
    },
    {
     "name": "stdout",
     "output_type": "stream",
     "text": "Enter the description of Oi-Zuki :  "
    },
    {
     "name": "stdout",
     "output_type": "stream",
     "text": [
      "Incorrect! The actual description is: front lunge punch\n",
      "_________________________\n"
     ]
    },
    {
     "name": "stdout",
     "output_type": "stream",
     "text": "Enter the description of Shezentai :  "
    },
    {
     "name": "stdout",
     "output_type": "stream",
     "text": [
      "Incorrect! The actual description is: natural stance\n",
      "_________________________\n"
     ]
    },
    {
     "name": "stdout",
     "output_type": "stream",
     "text": "Enter the description of Choku-Zuki :  "
    },
    {
     "name": "stdout",
     "output_type": "stream",
     "text": [
      "Incorrect! The actual description is: straight punch\n",
      "_________________________\n",
      "You get 0 points out of 6\n",
      "Thanks for playing this game!\n"
     ]
    }
   ],
   "source": [
    "import random\n",
    "\n",
    "\n",
    "inp = input('Would you like to play a flashcard game? ').lower()\n",
    "if  inp == \"yes\":\n",
    "    \n",
    "    flashcards = {\n",
    "    \"Shezentai\": \"Natural Stance\",\n",
    "    \"Choku-Zuki\": \"Straight Punch\",\n",
    "    \"Oi-Zuki\": \"Front Lunge Punch\",\n",
    "    \"Gyaku-Zuki\": \"Reverse Punch\",\n",
    "    \"Gedan Barai\": \"Down Block\",\n",
    "    \"Age-Uke\": \"Rising Block\"}\n",
    "\n",
    "    Karate_stances = list(flashcards.keys())\n",
    "    random.shuffle(Karate_stances) #shuffles cards\n",
    "    points = 0\n",
    "    for key in Karate_stances:\n",
    "        guess = input('Enter the description of {} : '.format(key)).lower()\n",
    "        answer = flashcards[key].lower()\n",
    "\n",
    "            #print the actual description of the word.\n",
    "\n",
    "            #if the user is correct, let them know and add 1 point to their correct guesses.\n",
    "        if guess == answer:\n",
    "            print(\"Correct! You get 1 point.\")\n",
    "            points+=1\n",
    "        else:\n",
    "            print(\"Incorrect! The actual description is:\",answer)\n",
    "            print('_'*25)\n",
    "\n",
    "    print(\"You get {} points out of {}\".format(points,len(Karate_stances)))\n",
    "    inp = input('Would you like to play a flashcard game? ').lower()\n",
    "    if  inp == \"yes\":\n",
    "        \n",
    "\n",
    "    # ask user to play again and get their input. If they say yes, play again. Otherwise, exit the loop!\n",
    "    \n",
    "else:\n",
    "    print(\"ok!\")\n",
    "#When the user is done playing, tell them thanks with a print statement below!\n",
    "print(\"Thanks for playing this game!\")\n",
    "\n"
   ]
  },
  {
   "cell_type": "code",
   "execution_count": 0,
   "metadata": {
    "collapsed": false
   },
   "outputs": [
   ],
   "source": [
   ]
  }
 ],
 "metadata": {
  "colab": {
   "collapsed_sections": [
    "acolMI3gVF8w",
    "EL8bZ5XLVF8z"
   ],
   "name": "FlashKarate!.ipynb",
   "provenance": [
   ]
  },
  "kernelspec": {
   "display_name": "Python 3 (Ubuntu Linux)",
   "language": "python",
   "name": "python3-ubuntu",
   "resource_dir": "/usr/local/share/jupyter/kernels/python3-ubuntu"
  },
  "language_info": {
   "codemirror_mode": {
    "name": "ipython",
    "version": 3
   },
   "file_extension": ".py",
   "mimetype": "text/x-python",
   "name": "python",
   "nbconvert_exporter": "python",
   "pygments_lexer": "ipython3",
   "version": "3.8.10"
  }
 },
 "nbformat": 4,
 "nbformat_minor": 4
}