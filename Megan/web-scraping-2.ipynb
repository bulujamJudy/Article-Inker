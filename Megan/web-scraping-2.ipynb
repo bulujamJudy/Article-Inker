{
 "cells": [
  {
   "cell_type": "code",
   "execution_count": 1,
   "metadata": {
    "collapsed": false
   },
   "outputs": [
   ],
   "source": [
    "# !pip3 install praw"
   ]
  },
  {
   "cell_type": "markdown",
   "metadata": {
    "collapsed": false
   },
   "source": [
    "Go to the following link here _:_\n",
    "\n",
    "https://www.reddit.com/prefs/apps/\n",
    "\n"
   ]
  },
  {
   "cell_type": "code",
   "execution_count": 1,
   "metadata": {
    "collapsed": false
   },
   "outputs": [
   ],
   "source": [
    "import praw,requests,math, itertools,collections, wordcloud\n",
    "import pandas as pd\n",
    "import numpy as np"
   ]
  },
  {
   "cell_type": "code",
   "execution_count": 4,
   "metadata": {
    "collapsed": false
   },
   "outputs": [
   ],
   "source": [
    "reddit = praw.Reddit(\n",
    "    client_id='erKOtV7c-79AW1hZjQRGvg', \n",
    "    client_secret='fmQsx4YZNzp5A4JCXrvBZq_89-aiPA',\n",
    "    user_agent='dadjokes',\n",
    "    username='WorkingLingonberry11',\n",
    "    password='RF3RpyvqSbt)8i_')"
   ]
  },
  {
   "cell_type": "code",
   "execution_count": 5,
   "metadata": {
    "collapsed": false
   },
   "outputs": [
    {
     "name": "stdout",
     "output_type": "stream",
     "text": [
      "WorkingLingonberry11\n"
     ]
    }
   ],
   "source": [
    "print(reddit.user.me())"
   ]
  },
  {
   "cell_type": "markdown",
   "metadata": {
    "collapsed": false
   },
   "source": [
    "#### Finding results from a subreddit\n",
    "\n",
    "We use the query reddit.subreddit\\('&lt;\\-\\- Subreddit Name \\-\\-&gt;'\\).hot\\(limit = 5\\).\n",
    "\n",
    "hot indicates, in terms of reddit, the trending posts\n",
    "\n",
    "Other alternatives for hot are new \\( latest posts \\) and rising \\( posts which getting more activity \\)\\(limit = 5\\) indicates we are selecting 5 postsIn\n",
    "\n"
   ]
  },
  {
   "cell_type": "code",
   "execution_count": 7,
   "metadata": {
    "collapsed": false
   },
   "outputs": [
    {
     "name": "stdout",
     "output_type": "stream",
     "text": [
      "Hold your loved ones close\n",
      "\n"
     ]
    }
   ],
   "source": [
    "rising_posts = reddit.subreddit('dadjokes').rising(limit=1)\n",
    "for post in rising_posts:\n",
    "    print(post.title,end=\"\\n\\n\")"
   ]
  },
  {
   "cell_type": "code",
   "execution_count": 8,
   "metadata": {
    "collapsed": false
   },
   "outputs": [
    {
     "name": "stdout",
     "output_type": "stream",
     "text": [
      "My wife left me a note on the fridge saying “it’s not working, I’m at my parents place”\n",
      "\n"
     ]
    }
   ],
   "source": [
    "hot_posts = reddit.subreddit('dadjokes').hot(limit=1)\n",
    "for post in hot_posts:\n",
    "    print(post.title,end=\"\\n\\n\")"
   ]
  },
  {
   "cell_type": "markdown",
   "metadata": {
    "collapsed": false
   },
   "source": [
    "#### Choosing what information we want\n",
    "\n",
    "title \\-&gt; We get the title of reddit post\n",
    "\n",
    "selftext \\-&gt; We get the content of reddit post\n",
    "\n",
    "author \\-&gt; We get the author of reddit post\n",
    "\n",
    "ups \\-&gt; We get the upvotes for the reddit post\n",
    "\n",
    "downs \\-&gt; We get the downvotes for the reddit post\n",
    "\n",
    "num\\_comments \\-&gt; We get the number of comments on reddit post\n",
    "\n",
    "link\\_flair\\_text \\-&gt; We get the tags if any on the post\n",
    "\n",
    "url \\-&gt; We get the url if any of the reddit post\n",
    "\n",
    "We will store that data in pandas dataframe\n"
   ]
  },
  {
   "cell_type": "code",
   "execution_count": 9,
   "metadata": {
    "collapsed": false
   },
   "outputs": [
   ],
   "source": [
    "hot_posts = reddit.subreddit('dadjokes').hot(limit=2000)\n",
    "\n",
    "posts = []\n",
    "\n",
    "for post in hot_posts:\n",
    "    posts.append([post.title, post.score, post.id, post.selftext, post.author, post.url, post.num_comments, \n",
    "                  post.ups, post.downs, post.link_flair_text])\n",
    "\n",
    "posts_df = pd.DataFrame(posts,columns=['title', 'score', 'id', 'selftext', 'author', 'url', 'num_comments',\n",
    "                                       'upvotes','downvotes','category'])\n",
    "\n",
    "#Separating the news provider from the link\n",
    "posts_df['dad_jokes'] = posts_df['url'].str.split('/').str[2]"
   ]
  },
  {
   "cell_type": "code",
   "execution_count": 10,
   "metadata": {
    "collapsed": false
   },
   "outputs": [
    {
     "data": {
      "text/html": [
       "<div>\n",
       "<style scoped>\n",
       "    .dataframe tbody tr th:only-of-type {\n",
       "        vertical-align: middle;\n",
       "    }\n",
       "\n",
       "    .dataframe tbody tr th {\n",
       "        vertical-align: top;\n",
       "    }\n",
       "\n",
       "    .dataframe thead th {\n",
       "        text-align: right;\n",
       "    }\n",
       "</style>\n",
       "<table border=\"1\" class=\"dataframe\">\n",
       "  <thead>\n",
       "    <tr style=\"text-align: right;\">\n",
       "      <th></th>\n",
       "      <th>title</th>\n",
       "      <th>score</th>\n",
       "      <th>id</th>\n",
       "      <th>selftext</th>\n",
       "      <th>author</th>\n",
       "      <th>url</th>\n",
       "      <th>num_comments</th>\n",
       "      <th>upvotes</th>\n",
       "      <th>downvotes</th>\n",
       "      <th>category</th>\n",
       "      <th>dad_jokes</th>\n",
       "    </tr>\n",
       "  </thead>\n",
       "  <tbody>\n",
       "    <tr>\n",
       "      <th>0</th>\n",
       "      <td>My wife left me a note on the fridge saying “i...</td>\n",
       "      <td>2691</td>\n",
       "      <td>vb97xv</td>\n",
       "      <td>After opening the fridge, I’ve realized it was...</td>\n",
       "      <td>kdesign</td>\n",
       "      <td>https://www.reddit.com/r/dadjokes/comments/vb9...</td>\n",
       "      <td>91</td>\n",
       "      <td>2691</td>\n",
       "      <td>0</td>\n",
       "      <td>None</td>\n",
       "      <td>www.reddit.com</td>\n",
       "    </tr>\n",
       "    <tr>\n",
       "      <th>1</th>\n",
       "      <td>My girlfriend is leaving me saying I am not Am...</td>\n",
       "      <td>10914</td>\n",
       "      <td>vb01hy</td>\n",
       "      <td>Saw it coming a kilometer away.</td>\n",
       "      <td>clitsdontexist</td>\n",
       "      <td>https://www.reddit.com/r/dadjokes/comments/vb0...</td>\n",
       "      <td>229</td>\n",
       "      <td>10914</td>\n",
       "      <td>0</td>\n",
       "      <td>None</td>\n",
       "      <td>www.reddit.com</td>\n",
       "    </tr>\n",
       "    <tr>\n",
       "      <th>2</th>\n",
       "      <td>an unexpected emotional journey</td>\n",
       "      <td>497</td>\n",
       "      <td>vbcl0j</td>\n",
       "      <td>My cousin (MtF) has just come out to the famil...</td>\n",
       "      <td>dopeaminenotanime</td>\n",
       "      <td>https://www.reddit.com/r/dadjokes/comments/vbc...</td>\n",
       "      <td>20</td>\n",
       "      <td>497</td>\n",
       "      <td>0</td>\n",
       "      <td>None</td>\n",
       "      <td>www.reddit.com</td>\n",
       "    </tr>\n",
       "    <tr>\n",
       "      <th>3</th>\n",
       "      <td>My wife claims that men in camouflage look rea...</td>\n",
       "      <td>606</td>\n",
       "      <td>vbafz5</td>\n",
       "      <td>I just….don’t see it.</td>\n",
       "      <td>porichoygupto</td>\n",
       "      <td>https://www.reddit.com/r/dadjokes/comments/vba...</td>\n",
       "      <td>11</td>\n",
       "      <td>606</td>\n",
       "      <td>0</td>\n",
       "      <td>None</td>\n",
       "      <td>www.reddit.com</td>\n",
       "    </tr>\n",
       "    <tr>\n",
       "      <th>4</th>\n",
       "      <td>How do you please a woman in bed?</td>\n",
       "      <td>154</td>\n",
       "      <td>vbbvis</td>\n",
       "      <td>Let her sleep.</td>\n",
       "      <td>VERBERD</td>\n",
       "      <td>https://www.reddit.com/r/dadjokes/comments/vbb...</td>\n",
       "      <td>13</td>\n",
       "      <td>154</td>\n",
       "      <td>0</td>\n",
       "      <td>None</td>\n",
       "      <td>www.reddit.com</td>\n",
       "    </tr>\n",
       "  </tbody>\n",
       "</table>\n",
       "</div>"
      ],
      "text/plain": [
       "                                               title  score      id  \\\n",
       "0  My wife left me a note on the fridge saying “i...   2691  vb97xv   \n",
       "1  My girlfriend is leaving me saying I am not Am...  10914  vb01hy   \n",
       "2                    an unexpected emotional journey    497  vbcl0j   \n",
       "3  My wife claims that men in camouflage look rea...    606  vbafz5   \n",
       "4                  How do you please a woman in bed?    154  vbbvis   \n",
       "\n",
       "                                            selftext             author  \\\n",
       "0  After opening the fridge, I’ve realized it was...            kdesign   \n",
       "1                    Saw it coming a kilometer away.     clitsdontexist   \n",
       "2  My cousin (MtF) has just come out to the famil...  dopeaminenotanime   \n",
       "3                              I just….don’t see it.      porichoygupto   \n",
       "4                                     Let her sleep.            VERBERD   \n",
       "\n",
       "                                                 url  num_comments  upvotes  \\\n",
       "0  https://www.reddit.com/r/dadjokes/comments/vb9...            91     2691   \n",
       "1  https://www.reddit.com/r/dadjokes/comments/vb0...           229    10914   \n",
       "2  https://www.reddit.com/r/dadjokes/comments/vbc...            20      497   \n",
       "3  https://www.reddit.com/r/dadjokes/comments/vba...            11      606   \n",
       "4  https://www.reddit.com/r/dadjokes/comments/vbb...            13      154   \n",
       "\n",
       "   downvotes category       dad_jokes  \n",
       "0          0     None  www.reddit.com  \n",
       "1          0     None  www.reddit.com  \n",
       "2          0     None  www.reddit.com  \n",
       "3          0     None  www.reddit.com  \n",
       "4          0     None  www.reddit.com  "
      ]
     },
     "execution_count": 10,
     "metadata": {
     },
     "output_type": "execute_result"
    }
   ],
   "source": [
    "posts_df.head()"
   ]
  },
  {
   "cell_type": "code",
   "execution_count": 11,
   "metadata": {
    "collapsed": false
   },
   "outputs": [
    {
     "data": {
      "text/html": [
       "<div>\n",
       "<style scoped>\n",
       "    .dataframe tbody tr th:only-of-type {\n",
       "        vertical-align: middle;\n",
       "    }\n",
       "\n",
       "    .dataframe tbody tr th {\n",
       "        vertical-align: top;\n",
       "    }\n",
       "\n",
       "    .dataframe thead th {\n",
       "        text-align: right;\n",
       "    }\n",
       "</style>\n",
       "<table border=\"1\" class=\"dataframe\">\n",
       "  <thead>\n",
       "    <tr style=\"text-align: right;\">\n",
       "      <th></th>\n",
       "      <th>title</th>\n",
       "      <th>score</th>\n",
       "      <th>id</th>\n",
       "      <th>selftext</th>\n",
       "      <th>author</th>\n",
       "      <th>url</th>\n",
       "      <th>num_comments</th>\n",
       "      <th>upvotes</th>\n",
       "      <th>downvotes</th>\n",
       "      <th>category</th>\n",
       "      <th>dad_jokes</th>\n",
       "    </tr>\n",
       "  </thead>\n",
       "  <tbody>\n",
       "    <tr>\n",
       "      <th>1</th>\n",
       "      <td>My girlfriend is leaving me saying I am not Am...</td>\n",
       "      <td>10914</td>\n",
       "      <td>vb01hy</td>\n",
       "      <td>Saw it coming a kilometer away.</td>\n",
       "      <td>clitsdontexist</td>\n",
       "      <td>https://www.reddit.com/r/dadjokes/comments/vb0...</td>\n",
       "      <td>229</td>\n",
       "      <td>10914</td>\n",
       "      <td>0</td>\n",
       "      <td>None</td>\n",
       "      <td>www.reddit.com</td>\n",
       "    </tr>\n",
       "    <tr>\n",
       "      <th>359</th>\n",
       "      <td>This sub is really going downhill</td>\n",
       "      <td>8362</td>\n",
       "      <td>v8to3w</td>\n",
       "      <td>https://i.imgur.com/LTic1Aq.jpg</td>\n",
       "      <td>chad-beer-316</td>\n",
       "      <td>https://www.reddit.com/r/dadjokes/comments/v8t...</td>\n",
       "      <td>144</td>\n",
       "      <td>8362</td>\n",
       "      <td>0</td>\n",
       "      <td>None</td>\n",
       "      <td>www.reddit.com</td>\n",
       "    </tr>\n",
       "    <tr>\n",
       "      <th>494</th>\n",
       "      <td>A horse walks into a bar and orders a pint of ...</td>\n",
       "      <td>8186</td>\n",
       "      <td>v85t7c</td>\n",
       "      <td>The bartender says, “You come in here pretty o...</td>\n",
       "      <td>docmoonlight</td>\n",
       "      <td>https://www.reddit.com/r/dadjokes/comments/v85...</td>\n",
       "      <td>255</td>\n",
       "      <td>8186</td>\n",
       "      <td>0</td>\n",
       "      <td>None</td>\n",
       "      <td>www.reddit.com</td>\n",
       "    </tr>\n",
       "    <tr>\n",
       "      <th>745</th>\n",
       "      <td>I dumped my last girlfriend because she was a ...</td>\n",
       "      <td>7290</td>\n",
       "      <td>v6u0oj</td>\n",
       "      <td>I should've known sooner. There were red flags...</td>\n",
       "      <td>scott3845</td>\n",
       "      <td>https://www.reddit.com/r/dadjokes/comments/v6u...</td>\n",
       "      <td>185</td>\n",
       "      <td>7290</td>\n",
       "      <td>0</td>\n",
       "      <td>None</td>\n",
       "      <td>www.reddit.com</td>\n",
       "    </tr>\n",
       "    <tr>\n",
       "      <th>826</th>\n",
       "      <td>What’s the difference between a tuna fish, a p...</td>\n",
       "      <td>7168</td>\n",
       "      <td>v6jj7e</td>\n",
       "      <td>You can’t tuna fish, but you can tuna piano…</td>\n",
       "      <td>DarlingLee</td>\n",
       "      <td>https://www.reddit.com/r/dadjokes/comments/v6j...</td>\n",
       "      <td>312</td>\n",
       "      <td>7168</td>\n",
       "      <td>0</td>\n",
       "      <td>None</td>\n",
       "      <td>www.reddit.com</td>\n",
       "    </tr>\n",
       "  </tbody>\n",
       "</table>\n",
       "</div>"
      ],
      "text/plain": [
       "                                                 title  score      id  \\\n",
       "1    My girlfriend is leaving me saying I am not Am...  10914  vb01hy   \n",
       "359                  This sub is really going downhill   8362  v8to3w   \n",
       "494  A horse walks into a bar and orders a pint of ...   8186  v85t7c   \n",
       "745  I dumped my last girlfriend because she was a ...   7290  v6u0oj   \n",
       "826  What’s the difference between a tuna fish, a p...   7168  v6jj7e   \n",
       "\n",
       "                                              selftext          author  \\\n",
       "1                      Saw it coming a kilometer away.  clitsdontexist   \n",
       "359                    https://i.imgur.com/LTic1Aq.jpg   chad-beer-316   \n",
       "494  The bartender says, “You come in here pretty o...    docmoonlight   \n",
       "745  I should've known sooner. There were red flags...       scott3845   \n",
       "826       You can’t tuna fish, but you can tuna piano…      DarlingLee   \n",
       "\n",
       "                                                   url  num_comments  upvotes  \\\n",
       "1    https://www.reddit.com/r/dadjokes/comments/vb0...           229    10914   \n",
       "359  https://www.reddit.com/r/dadjokes/comments/v8t...           144     8362   \n",
       "494  https://www.reddit.com/r/dadjokes/comments/v85...           255     8186   \n",
       "745  https://www.reddit.com/r/dadjokes/comments/v6u...           185     7290   \n",
       "826  https://www.reddit.com/r/dadjokes/comments/v6j...           312     7168   \n",
       "\n",
       "     downvotes category       dad_jokes  \n",
       "1            0     None  www.reddit.com  \n",
       "359          0     None  www.reddit.com  \n",
       "494          0     None  www.reddit.com  \n",
       "745          0     None  www.reddit.com  \n",
       "826          0     None  www.reddit.com  "
      ]
     },
     "execution_count": 11,
     "metadata": {
     },
     "output_type": "execute_result"
    }
   ],
   "source": [
    "posts_df.sort_values(by='score', ascending=False).head(5)"
   ]
  },
  {
   "cell_type": "code",
   "execution_count": 12,
   "metadata": {
    "collapsed": false
   },
   "outputs": [
   ],
   "source": [
    "posts_df['dadjokes'] = posts_df['title'] + posts_df['selftext']\n",
    "posts_df['dadjokes'].to_csv('dadjokes.csv', index=False)"
   ]
  },
  {
   "cell_type": "code",
   "execution_count": 0,
   "metadata": {
    "collapsed": false
   },
   "outputs": [
   ],
   "source": [
   ]
  }
 ],
 "metadata": {
  "kernelspec": {
   "display_name": "Python (nlp_env)",
   "language": "python",
   "metadata": {
    "debugger": true
   },
   "name": "nlp_env",
   "resource_dir": "/projects/0ddeade5-3577-4fe8-8cd6-8a0cb653428e/.local/share/jupyter/kernels/nlp_env"
  },
  "language_info": {
   "codemirror_mode": {
    "name": "ipython",
    "version": 3
   },
   "file_extension": ".py",
   "mimetype": "text/x-python",
   "name": "python",
   "nbconvert_exporter": "python",
   "pygments_lexer": "ipython3",
   "version": "3.8.13"
  }
 },
 "nbformat": 4,
 "nbformat_minor": 4
}