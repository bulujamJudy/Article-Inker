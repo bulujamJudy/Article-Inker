{
 "cells": [
  {
   "cell_type": "code",
   "execution_count": 1,
   "metadata": {
    "collapsed": false
   },
   "outputs": [
    {
     "name": "stdout",
     "output_type": "stream",
     "text": [
      "Collecting praw\r\n",
      "  Downloading praw-7.6.0-py3-none-any.whl (188 kB)\r\n",
      "\u001b[?25l\r\u001b[K     |█▊                              | 10 kB 23.8 MB/s eta 0:00:01\r\u001b[K     |███▌                            | 20 kB 28.8 MB/s eta 0:00:01\r\u001b[K     |█████▎                          | 30 kB 33.8 MB/s eta 0:00:01\r\u001b[K     |███████                         | 40 kB 37.1 MB/s eta 0:00:01\r\u001b[K     |████████▊                       | 51 kB 26.0 MB/s eta 0:00:01\r\u001b[K     |██████████▌                     | 61 kB 29.2 MB/s eta 0:00:01\r\u001b[K     |████████████▏                   | 71 kB 32.3 MB/s eta 0:00:01\r\u001b[K     |██████████████                  | 81 kB 34.1 MB/s eta 0:00:01\r\u001b[K     |███████████████▊                | 92 kB 36.6 MB/s eta 0:00:01\r\u001b[K     |█████████████████▍              | 102 kB 39.2 MB/s eta 0:00:01\r\u001b[K     |███████████████████▏            | 112 kB 39.2 MB/s eta 0:00:01\r\u001b[K     |█████████████████████           | 122 kB 39.2 MB/s eta 0:00:01\r\u001b[K     |██████████████████████▋         | 133 kB 39.2 MB/s eta 0:00:01\r\u001b[K     |████████████████████████▍       | 143 kB 39.2 MB/s eta 0:00:01\r\u001b[K     |██████████████████████████▏     | 153 kB 39.2 MB/s eta 0:00:01\r\u001b[K     |███████████████████████████▉    | 163 kB 39.2 MB/s eta 0:00:01\r\u001b[K     |█████████████████████████████▋  | 174 kB 39.2 MB/s eta 0:00:01\r\u001b[K     |███████████████████████████████▍| 184 kB 39.2 MB/s eta 0:00:01\r\u001b[K     |████████████████████████████████| 188 kB 39.2 MB/s \r\n"
     ]
    },
    {
     "name": "stdout",
     "output_type": "stream",
     "text": [
      "\u001b[?25hCollecting websocket-client>=0.54.0\r\n",
      "  Downloading websocket_client-1.3.2-py3-none-any.whl (54 kB)\r\n",
      "\u001b[?25l\r\u001b[K     |██████                          | 10 kB 29.6 MB/s eta 0:00:01\r\u001b[K     |████████████                    | 20 kB 38.5 MB/s eta 0:00:01\r\u001b[K     |██████████████████              | 30 kB 48.6 MB/s eta 0:00:01\r\u001b[K     |████████████████████████▏       | 40 kB 55.1 MB/s eta 0:00:01\r\u001b[K     |██████████████████████████████▏ | 51 kB 61.1 MB/s eta 0:00:01"
     ]
    },
    {
     "name": "stdout",
     "output_type": "stream",
     "text": [
      "\r\u001b[K     |████████████████████████████████| 54 kB 2.8 MB/s \r\n"
     ]
    },
    {
     "name": "stdout",
     "output_type": "stream",
     "text": [
      "\u001b[?25hCollecting update-checker>=0.18\r\n",
      "  Downloading update_checker-0.18.0-py3-none-any.whl (7.0 kB)\r\n"
     ]
    },
    {
     "name": "stdout",
     "output_type": "stream",
     "text": [
      "Collecting prawcore<3,>=2.1\r\n",
      "  Downloading prawcore-2.3.0-py3-none-any.whl (16 kB)\r\n"
     ]
    },
    {
     "name": "stdout",
     "output_type": "stream",
     "text": [
      "Requirement already satisfied: requests>=2.3.0 in /usr/lib/python3/dist-packages (from update-checker>=0.18->praw) (2.22.0)\r\n"
     ]
    },
    {
     "name": "stdout",
     "output_type": "stream",
     "text": [
      "Installing collected packages: websocket-client, update-checker, prawcore, praw\r\n"
     ]
    },
    {
     "name": "stdout",
     "output_type": "stream",
     "text": [
      "Successfully installed praw-7.6.0 prawcore-2.3.0 update-checker-0.18.0 websocket-client-1.3.2\r\n"
     ]
    }
   ],
   "source": [
    "#!pip3 install praw"
   ]
  },
  {
   "cell_type": "markdown",
   "metadata": {
    "collapsed": false
   },
   "source": [
    "Go to the following link here _:_\n",
    "\n",
    "https://www.reddit.com/prefs/apps/\n",
    "\n"
   ]
  },
  {
   "cell_type": "code",
   "execution_count": 19,
   "metadata": {
    "collapsed": false
   },
   "outputs": [
    {
     "name": "stderr",
     "output_type": "stream",
     "text": [
      "[nltk_data] Downloading package stopwords to /projects/0ddeade5-3577-4\n",
      "[nltk_data]     fe8-8cd6-8a0cb653428e/nltk_data...\n",
      "[nltk_data]   Package stopwords is already up-to-date!\n"
     ]
    }
   ],
   "source": [
    "import praw,requests,math, itertools,collections, wordcloud\n",
    "import pandas as pd\n",
    "import numpy as np\n",
    "import nltk\n",
    "nltk.download('stopwords')\n",
    "\n",
    "from nltk.corpus import stopwords\n",
    "from nltk.tokenize import word_tokenize\n",
    "from nltk.stem import WordNetLemmatizer"
   ]
  },
  {
   "cell_type": "code",
   "execution_count": 5,
   "metadata": {
    "collapsed": false
   },
   "outputs": [
   ],
   "source": [
    "reddit = praw.Reddit(\n",
    "    client_id='lgx1EAJJQJlAu_7rCAoBrg', \n",
    "    client_secret='OkQIm3ny_AFQ3LzIyhi8gEwXgY6Ydw',\n",
    "    user_agent='dadjokes',\n",
    "    username='wiytre',\n",
    "    password='ooferonI!1')"
   ]
  },
  {
   "cell_type": "code",
   "execution_count": 6,
   "metadata": {
    "collapsed": false
   },
   "outputs": [
    {
     "name": "stdout",
     "output_type": "stream",
     "text": [
      "wiytre\n"
     ]
    }
   ],
   "source": [
    "print(reddit.user.me())\n"
   ]
  },
  {
   "cell_type": "markdown",
   "metadata": {
    "collapsed": false
   },
   "source": [
    "#### Finding results from a subreddit\n",
    "\n",
    "We use the query reddit.subreddit\\('&lt;\\-\\- Subreddit Name \\-\\-&gt;'\\).hot\\(limit = 5\\).\n",
    "\n",
    "hot indicates, in terms of reddit, the trending posts\n",
    "\n",
    "Other alternatives for hot are new \\( latest posts \\) and rising \\( posts which getting more activity \\)\\(limit = 5\\) indicates we are selecting 5 postsIn\n"
   ]
  },
  {
   "cell_type": "code",
   "execution_count": 10,
   "metadata": {
    "collapsed": false
   },
   "outputs": [
    {
     "name": "stdout",
     "output_type": "stream",
     "text": [
      "Hold your loved ones close\n",
      "\n"
     ]
    }
   ],
   "source": [
    "rising_posts = reddit.subreddit('dadjokes').rising(limit=1)\n",
    "for post in rising_posts:\n",
    "    print(post.title,end=\"\\n\\n\")"
   ]
  },
  {
   "cell_type": "code",
   "execution_count": 11,
   "metadata": {
    "collapsed": false
   },
   "outputs": [
    {
     "name": "stdout",
     "output_type": "stream",
     "text": [
      "My wife left me a note on the fridge saying “it’s not working, I’m at my parents place”\n",
      "\n"
     ]
    }
   ],
   "source": [
    "hot_posts = reddit.subreddit('dadjokes').hot(limit=1)\n",
    "for post in hot_posts:\n",
    "    print(post.title,end=\"\\n\\n\")"
   ]
  },
  {
   "cell_type": "markdown",
   "metadata": {
    "collapsed": false
   },
   "source": [
    "#### Choosing what information we want\n",
    "\n",
    "title \\-&gt; We get the title of reddit post\n",
    "\n",
    "selftext \\-&gt; We get the content of reddit post\n",
    "\n",
    "author \\-&gt; We get the author of reddit post\n",
    "\n",
    "ups \\-&gt; We get the upvotes for the reddit post\n",
    "\n",
    "downs \\-&gt; We get the downvotes for the reddit post\n",
    "\n",
    "num\\_comments \\-&gt; We get the number of comments on reddit post\n",
    "\n",
    "link\\_flair\\_text \\-&gt; We get the tags if any on the post\n",
    "\n",
    "url \\-&gt; We get the url if any of the reddit post\n",
    "\n",
    "We will store that data in pandas dataframe\n"
   ]
  },
  {
   "cell_type": "code",
   "execution_count": 30,
   "metadata": {
    "collapsed": false
   },
   "outputs": [
   ],
   "source": [
    "def remove_stopwords(sentences):\n",
    "    for i in range(len(sentences)):\n",
    "        words = nltk.word_tokenize(sentences[i])\n",
    "        words = [word for word in words if word not in stopwords.words('english')]\n",
    "        sentences[i] = ' '.join(words)\n",
    "    return sentences\n",
    "\n",
    "def remove_punctuation(sentences):\n",
    "    for i in range(len(sentences)):\n",
    "        words = nltk.word_tokenize(sentences[i])\n",
    "        words = [word for word in words if word not in \"',.[]?!()%{}\"]\n",
    "        sentences[i] = ' '.join(words)\n",
    "    return sentences\n",
    "\n",
    "def lem_sentences(sentences):\n",
    "    for w in range(len(sentences)):\n",
    "        words = nltk.word_tokenize(sentences[w])\n",
    "        words = [lemmatizer.lemmatize(w) for w in words]\n",
    "        sentences[w] = ' '.join(words)\n",
    "    return sentences"
   ]
  },
  {
   "cell_type": "code",
   "execution_count": 34,
   "metadata": {
    "collapsed": false,
    "scrolled": true
   },
   "outputs": [
   ],
   "source": [
    "text = pd.read_csv(\"dadjokes.csv\")"
   ]
  },
  {
   "cell_type": "code",
   "execution_count": 12,
   "metadata": {
    "collapsed": false
   },
   "outputs": [
   ],
   "source": [
    "hot_posts = reddit.subreddit('dadjokes').hot(limit=2000)\n",
    "\n",
    "posts = []\n",
    "\n",
    "for post in hot_posts:\n",
    "    posts.append([post.title, post.score, post.id, post.selftext, post.author, post.url, post.num_comments, \n",
    "                  post.ups, post.downs, post.link_flair_text])\n",
    "\n",
    "posts_df = pd.DataFrame(posts,columns=['title', 'score', 'id', 'selftext', 'author', 'url', 'num_comments',\n",
    "                                       'upvotes','downvotes','category'])\n",
    "\n",
    "#Separating the news provider from the link\n",
    "posts_df['dad_jokes'] = posts_df['url'].str.split('/').str[2]"
   ]
  },
  {
   "cell_type": "code",
   "execution_count": 13,
   "metadata": {
    "collapsed": false
   },
   "outputs": [
    {
     "data": {
      "text/html": [
       "<div>\n",
       "<style scoped>\n",
       "    .dataframe tbody tr th:only-of-type {\n",
       "        vertical-align: middle;\n",
       "    }\n",
       "\n",
       "    .dataframe tbody tr th {\n",
       "        vertical-align: top;\n",
       "    }\n",
       "\n",
       "    .dataframe thead th {\n",
       "        text-align: right;\n",
       "    }\n",
       "</style>\n",
       "<table border=\"1\" class=\"dataframe\">\n",
       "  <thead>\n",
       "    <tr style=\"text-align: right;\">\n",
       "      <th></th>\n",
       "      <th>title</th>\n",
       "      <th>score</th>\n",
       "      <th>id</th>\n",
       "      <th>selftext</th>\n",
       "      <th>author</th>\n",
       "      <th>url</th>\n",
       "      <th>num_comments</th>\n",
       "      <th>upvotes</th>\n",
       "      <th>downvotes</th>\n",
       "      <th>category</th>\n",
       "      <th>dad_jokes</th>\n",
       "    </tr>\n",
       "  </thead>\n",
       "  <tbody>\n",
       "    <tr>\n",
       "      <th>0</th>\n",
       "      <td>My wife left me a note on the fridge saying “i...</td>\n",
       "      <td>2633</td>\n",
       "      <td>vb97xv</td>\n",
       "      <td>After opening the fridge, I’ve realized it was...</td>\n",
       "      <td>kdesign</td>\n",
       "      <td>https://www.reddit.com/r/dadjokes/comments/vb9...</td>\n",
       "      <td>90</td>\n",
       "      <td>2633</td>\n",
       "      <td>0</td>\n",
       "      <td>None</td>\n",
       "      <td>www.reddit.com</td>\n",
       "    </tr>\n",
       "    <tr>\n",
       "      <th>1</th>\n",
       "      <td>My girlfriend is leaving me saying I am not Am...</td>\n",
       "      <td>10880</td>\n",
       "      <td>vb01hy</td>\n",
       "      <td>Saw it coming a kilometer away.</td>\n",
       "      <td>clitsdontexist</td>\n",
       "      <td>https://www.reddit.com/r/dadjokes/comments/vb0...</td>\n",
       "      <td>229</td>\n",
       "      <td>10880</td>\n",
       "      <td>0</td>\n",
       "      <td>None</td>\n",
       "      <td>www.reddit.com</td>\n",
       "    </tr>\n",
       "    <tr>\n",
       "      <th>2</th>\n",
       "      <td>an unexpected emotional journey</td>\n",
       "      <td>479</td>\n",
       "      <td>vbcl0j</td>\n",
       "      <td>My cousin (MtF) has just come out to the famil...</td>\n",
       "      <td>dopeaminenotanime</td>\n",
       "      <td>https://www.reddit.com/r/dadjokes/comments/vbc...</td>\n",
       "      <td>20</td>\n",
       "      <td>479</td>\n",
       "      <td>0</td>\n",
       "      <td>None</td>\n",
       "      <td>www.reddit.com</td>\n",
       "    </tr>\n",
       "    <tr>\n",
       "      <th>3</th>\n",
       "      <td>My wife claims that men in camouflage look rea...</td>\n",
       "      <td>604</td>\n",
       "      <td>vbafz5</td>\n",
       "      <td>I just….don’t see it.</td>\n",
       "      <td>porichoygupto</td>\n",
       "      <td>https://www.reddit.com/r/dadjokes/comments/vba...</td>\n",
       "      <td>11</td>\n",
       "      <td>604</td>\n",
       "      <td>0</td>\n",
       "      <td>None</td>\n",
       "      <td>www.reddit.com</td>\n",
       "    </tr>\n",
       "    <tr>\n",
       "      <th>4</th>\n",
       "      <td>How do you please a woman in bed?</td>\n",
       "      <td>151</td>\n",
       "      <td>vbbvis</td>\n",
       "      <td>Let her sleep.</td>\n",
       "      <td>VERBERD</td>\n",
       "      <td>https://www.reddit.com/r/dadjokes/comments/vbb...</td>\n",
       "      <td>13</td>\n",
       "      <td>151</td>\n",
       "      <td>0</td>\n",
       "      <td>None</td>\n",
       "      <td>www.reddit.com</td>\n",
       "    </tr>\n",
       "  </tbody>\n",
       "</table>\n",
       "</div>"
      ],
      "text/plain": [
       "                                               title  score      id  \\\n",
       "0  My wife left me a note on the fridge saying “i...   2633  vb97xv   \n",
       "1  My girlfriend is leaving me saying I am not Am...  10880  vb01hy   \n",
       "2                    an unexpected emotional journey    479  vbcl0j   \n",
       "3  My wife claims that men in camouflage look rea...    604  vbafz5   \n",
       "4                  How do you please a woman in bed?    151  vbbvis   \n",
       "\n",
       "                                            selftext             author  \\\n",
       "0  After opening the fridge, I’ve realized it was...            kdesign   \n",
       "1                    Saw it coming a kilometer away.     clitsdontexist   \n",
       "2  My cousin (MtF) has just come out to the famil...  dopeaminenotanime   \n",
       "3                              I just….don’t see it.      porichoygupto   \n",
       "4                                     Let her sleep.            VERBERD   \n",
       "\n",
       "                                                 url  num_comments  upvotes  \\\n",
       "0  https://www.reddit.com/r/dadjokes/comments/vb9...            90     2633   \n",
       "1  https://www.reddit.com/r/dadjokes/comments/vb0...           229    10880   \n",
       "2  https://www.reddit.com/r/dadjokes/comments/vbc...            20      479   \n",
       "3  https://www.reddit.com/r/dadjokes/comments/vba...            11      604   \n",
       "4  https://www.reddit.com/r/dadjokes/comments/vbb...            13      151   \n",
       "\n",
       "   downvotes category       dad_jokes  \n",
       "0          0     None  www.reddit.com  \n",
       "1          0     None  www.reddit.com  \n",
       "2          0     None  www.reddit.com  \n",
       "3          0     None  www.reddit.com  \n",
       "4          0     None  www.reddit.com  "
      ]
     },
     "execution_count": 13,
     "metadata": {
     },
     "output_type": "execute_result"
    }
   ],
   "source": [
    "posts_df.head()"
   ]
  },
  {
   "cell_type": "code",
   "execution_count": 14,
   "metadata": {
    "collapsed": false
   },
   "outputs": [
    {
     "data": {
      "text/html": [
       "<div>\n",
       "<style scoped>\n",
       "    .dataframe tbody tr th:only-of-type {\n",
       "        vertical-align: middle;\n",
       "    }\n",
       "\n",
       "    .dataframe tbody tr th {\n",
       "        vertical-align: top;\n",
       "    }\n",
       "\n",
       "    .dataframe thead th {\n",
       "        text-align: right;\n",
       "    }\n",
       "</style>\n",
       "<table border=\"1\" class=\"dataframe\">\n",
       "  <thead>\n",
       "    <tr style=\"text-align: right;\">\n",
       "      <th></th>\n",
       "      <th>title</th>\n",
       "      <th>score</th>\n",
       "      <th>id</th>\n",
       "      <th>selftext</th>\n",
       "      <th>author</th>\n",
       "      <th>url</th>\n",
       "      <th>num_comments</th>\n",
       "      <th>upvotes</th>\n",
       "      <th>downvotes</th>\n",
       "      <th>category</th>\n",
       "      <th>dad_jokes</th>\n",
       "    </tr>\n",
       "  </thead>\n",
       "  <tbody>\n",
       "    <tr>\n",
       "      <th>1</th>\n",
       "      <td>My girlfriend is leaving me saying I am not Am...</td>\n",
       "      <td>10880</td>\n",
       "      <td>vb01hy</td>\n",
       "      <td>Saw it coming a kilometer away.</td>\n",
       "      <td>clitsdontexist</td>\n",
       "      <td>https://www.reddit.com/r/dadjokes/comments/vb0...</td>\n",
       "      <td>229</td>\n",
       "      <td>10880</td>\n",
       "      <td>0</td>\n",
       "      <td>None</td>\n",
       "      <td>www.reddit.com</td>\n",
       "    </tr>\n",
       "    <tr>\n",
       "      <th>357</th>\n",
       "      <td>This sub is really going downhill</td>\n",
       "      <td>8358</td>\n",
       "      <td>v8to3w</td>\n",
       "      <td>https://i.imgur.com/LTic1Aq.jpg</td>\n",
       "      <td>chad-beer-316</td>\n",
       "      <td>https://www.reddit.com/r/dadjokes/comments/v8t...</td>\n",
       "      <td>144</td>\n",
       "      <td>8358</td>\n",
       "      <td>0</td>\n",
       "      <td>None</td>\n",
       "      <td>www.reddit.com</td>\n",
       "    </tr>\n",
       "    <tr>\n",
       "      <th>492</th>\n",
       "      <td>A horse walks into a bar and orders a pint of ...</td>\n",
       "      <td>8186</td>\n",
       "      <td>v85t7c</td>\n",
       "      <td>The bartender says, “You come in here pretty o...</td>\n",
       "      <td>docmoonlight</td>\n",
       "      <td>https://www.reddit.com/r/dadjokes/comments/v85...</td>\n",
       "      <td>255</td>\n",
       "      <td>8186</td>\n",
       "      <td>0</td>\n",
       "      <td>None</td>\n",
       "      <td>www.reddit.com</td>\n",
       "    </tr>\n",
       "    <tr>\n",
       "      <th>743</th>\n",
       "      <td>I dumped my last girlfriend because she was a ...</td>\n",
       "      <td>7285</td>\n",
       "      <td>v6u0oj</td>\n",
       "      <td>I should've known sooner. There were red flags...</td>\n",
       "      <td>scott3845</td>\n",
       "      <td>https://www.reddit.com/r/dadjokes/comments/v6u...</td>\n",
       "      <td>185</td>\n",
       "      <td>7285</td>\n",
       "      <td>0</td>\n",
       "      <td>None</td>\n",
       "      <td>www.reddit.com</td>\n",
       "    </tr>\n",
       "    <tr>\n",
       "      <th>824</th>\n",
       "      <td>What’s the difference between a tuna fish, a p...</td>\n",
       "      <td>7163</td>\n",
       "      <td>v6jj7e</td>\n",
       "      <td>You can’t tuna fish, but you can tuna piano…</td>\n",
       "      <td>DarlingLee</td>\n",
       "      <td>https://www.reddit.com/r/dadjokes/comments/v6j...</td>\n",
       "      <td>312</td>\n",
       "      <td>7163</td>\n",
       "      <td>0</td>\n",
       "      <td>None</td>\n",
       "      <td>www.reddit.com</td>\n",
       "    </tr>\n",
       "  </tbody>\n",
       "</table>\n",
       "</div>"
      ],
      "text/plain": [
       "                                                 title  score      id  \\\n",
       "1    My girlfriend is leaving me saying I am not Am...  10880  vb01hy   \n",
       "357                  This sub is really going downhill   8358  v8to3w   \n",
       "492  A horse walks into a bar and orders a pint of ...   8186  v85t7c   \n",
       "743  I dumped my last girlfriend because she was a ...   7285  v6u0oj   \n",
       "824  What’s the difference between a tuna fish, a p...   7163  v6jj7e   \n",
       "\n",
       "                                              selftext          author  \\\n",
       "1                      Saw it coming a kilometer away.  clitsdontexist   \n",
       "357                    https://i.imgur.com/LTic1Aq.jpg   chad-beer-316   \n",
       "492  The bartender says, “You come in here pretty o...    docmoonlight   \n",
       "743  I should've known sooner. There were red flags...       scott3845   \n",
       "824       You can’t tuna fish, but you can tuna piano…      DarlingLee   \n",
       "\n",
       "                                                   url  num_comments  upvotes  \\\n",
       "1    https://www.reddit.com/r/dadjokes/comments/vb0...           229    10880   \n",
       "357  https://www.reddit.com/r/dadjokes/comments/v8t...           144     8358   \n",
       "492  https://www.reddit.com/r/dadjokes/comments/v85...           255     8186   \n",
       "743  https://www.reddit.com/r/dadjokes/comments/v6u...           185     7285   \n",
       "824  https://www.reddit.com/r/dadjokes/comments/v6j...           312     7163   \n",
       "\n",
       "     downvotes category       dad_jokes  \n",
       "1            0     None  www.reddit.com  \n",
       "357          0     None  www.reddit.com  \n",
       "492          0     None  www.reddit.com  \n",
       "743          0     None  www.reddit.com  \n",
       "824          0     None  www.reddit.com  "
      ]
     },
     "execution_count": 14,
     "metadata": {
     },
     "output_type": "execute_result"
    }
   ],
   "source": [
    "posts_df.sort_values(by='score', ascending=False).head(5)"
   ]
  },
  {
   "cell_type": "code",
   "execution_count": 16,
   "metadata": {
    "collapsed": false
   },
   "outputs": [
   ],
   "source": [
    "posts_df['dadjokes'] = posts_df['title'] + posts_df['selftext']\n",
    "posts_df['dadjokes'].to_csv('dadjokes.csv', index=False)"
   ]
  },
  {
   "cell_type": "code",
   "execution_count": 31,
   "metadata": {
    "collapsed": false
   },
   "outputs": [
    {
     "ename": "KeyError",
     "evalue": "0",
     "output_type": "error",
     "traceback": [
      "\u001b[0;31m---------------------------------------------------------------------------\u001b[0m",
      "\u001b[0;31mKeyError\u001b[0m                                  Traceback (most recent call last)",
      "File \u001b[0;32m~/miniconda3/envs/nlp_env/lib/python3.8/site-packages/pandas/core/indexes/base.py:3621\u001b[0m, in \u001b[0;36mIndex.get_loc\u001b[0;34m(self, key, method, tolerance)\u001b[0m\n\u001b[1;32m   3620\u001b[0m \u001b[38;5;28;01mtry\u001b[39;00m:\n\u001b[0;32m-> 3621\u001b[0m     \u001b[38;5;28;01mreturn\u001b[39;00m \u001b[38;5;28;43mself\u001b[39;49m\u001b[38;5;241;43m.\u001b[39;49m\u001b[43m_engine\u001b[49m\u001b[38;5;241;43m.\u001b[39;49m\u001b[43mget_loc\u001b[49m\u001b[43m(\u001b[49m\u001b[43mcasted_key\u001b[49m\u001b[43m)\u001b[49m\n\u001b[1;32m   3622\u001b[0m \u001b[38;5;28;01mexcept\u001b[39;00m \u001b[38;5;167;01mKeyError\u001b[39;00m \u001b[38;5;28;01mas\u001b[39;00m err:\n",
      "File \u001b[0;32m~/miniconda3/envs/nlp_env/lib/python3.8/site-packages/pandas/_libs/index.pyx:136\u001b[0m, in \u001b[0;36mpandas._libs.index.IndexEngine.get_loc\u001b[0;34m()\u001b[0m\n",
      "File \u001b[0;32m~/miniconda3/envs/nlp_env/lib/python3.8/site-packages/pandas/_libs/index.pyx:163\u001b[0m, in \u001b[0;36mpandas._libs.index.IndexEngine.get_loc\u001b[0;34m()\u001b[0m\n",
      "File \u001b[0;32mpandas/_libs/hashtable_class_helper.pxi:5198\u001b[0m, in \u001b[0;36mpandas._libs.hashtable.PyObjectHashTable.get_item\u001b[0;34m()\u001b[0m\n",
      "File \u001b[0;32mpandas/_libs/hashtable_class_helper.pxi:5206\u001b[0m, in \u001b[0;36mpandas._libs.hashtable.PyObjectHashTable.get_item\u001b[0;34m()\u001b[0m\n",
      "\u001b[0;31mKeyError\u001b[0m: 0",
      "\nThe above exception was the direct cause of the following exception:\n",
      "\u001b[0;31mKeyError\u001b[0m                                  Traceback (most recent call last)",
      "Input \u001b[0;32mIn [31]\u001b[0m, in \u001b[0;36m<cell line: 1>\u001b[0;34m()\u001b[0m\n\u001b[0;32m----> 1\u001b[0m \u001b[43mremove_stopwords\u001b[49m\u001b[43m(\u001b[49m\u001b[43mdadjokes\u001b[49m\u001b[43m)\u001b[49m\n\u001b[1;32m      2\u001b[0m remove_punctuation(dadjokes)\n",
      "Input \u001b[0;32mIn [30]\u001b[0m, in \u001b[0;36mremove_stopwords\u001b[0;34m(sentences)\u001b[0m\n\u001b[1;32m      1\u001b[0m \u001b[38;5;28;01mdef\u001b[39;00m \u001b[38;5;21mremove_stopwords\u001b[39m(sentences):\n\u001b[1;32m      2\u001b[0m     \u001b[38;5;28;01mfor\u001b[39;00m i \u001b[38;5;129;01min\u001b[39;00m \u001b[38;5;28mrange\u001b[39m(\u001b[38;5;28mlen\u001b[39m(sentences)):\n\u001b[0;32m----> 3\u001b[0m         words \u001b[38;5;241m=\u001b[39m nltk\u001b[38;5;241m.\u001b[39mword_tokenize(\u001b[43msentences\u001b[49m\u001b[43m[\u001b[49m\u001b[43mi\u001b[49m\u001b[43m]\u001b[49m)\n\u001b[1;32m      4\u001b[0m         words \u001b[38;5;241m=\u001b[39m [word \u001b[38;5;28;01mfor\u001b[39;00m word \u001b[38;5;129;01min\u001b[39;00m words \u001b[38;5;28;01mif\u001b[39;00m word \u001b[38;5;129;01mnot\u001b[39;00m \u001b[38;5;129;01min\u001b[39;00m stopwords\u001b[38;5;241m.\u001b[39mwords(\u001b[38;5;124m'\u001b[39m\u001b[38;5;124menglish\u001b[39m\u001b[38;5;124m'\u001b[39m)]\n\u001b[1;32m      5\u001b[0m         sentences[i] \u001b[38;5;241m=\u001b[39m \u001b[38;5;124m'\u001b[39m\u001b[38;5;124m \u001b[39m\u001b[38;5;124m'\u001b[39m\u001b[38;5;241m.\u001b[39mjoin(words)\n",
      "File \u001b[0;32m~/miniconda3/envs/nlp_env/lib/python3.8/site-packages/pandas/core/frame.py:3505\u001b[0m, in \u001b[0;36mDataFrame.__getitem__\u001b[0;34m(self, key)\u001b[0m\n\u001b[1;32m   3503\u001b[0m \u001b[38;5;28;01mif\u001b[39;00m \u001b[38;5;28mself\u001b[39m\u001b[38;5;241m.\u001b[39mcolumns\u001b[38;5;241m.\u001b[39mnlevels \u001b[38;5;241m>\u001b[39m \u001b[38;5;241m1\u001b[39m:\n\u001b[1;32m   3504\u001b[0m     \u001b[38;5;28;01mreturn\u001b[39;00m \u001b[38;5;28mself\u001b[39m\u001b[38;5;241m.\u001b[39m_getitem_multilevel(key)\n\u001b[0;32m-> 3505\u001b[0m indexer \u001b[38;5;241m=\u001b[39m \u001b[38;5;28;43mself\u001b[39;49m\u001b[38;5;241;43m.\u001b[39;49m\u001b[43mcolumns\u001b[49m\u001b[38;5;241;43m.\u001b[39;49m\u001b[43mget_loc\u001b[49m\u001b[43m(\u001b[49m\u001b[43mkey\u001b[49m\u001b[43m)\u001b[49m\n\u001b[1;32m   3506\u001b[0m \u001b[38;5;28;01mif\u001b[39;00m is_integer(indexer):\n\u001b[1;32m   3507\u001b[0m     indexer \u001b[38;5;241m=\u001b[39m [indexer]\n",
      "File \u001b[0;32m~/miniconda3/envs/nlp_env/lib/python3.8/site-packages/pandas/core/indexes/base.py:3623\u001b[0m, in \u001b[0;36mIndex.get_loc\u001b[0;34m(self, key, method, tolerance)\u001b[0m\n\u001b[1;32m   3621\u001b[0m     \u001b[38;5;28;01mreturn\u001b[39;00m \u001b[38;5;28mself\u001b[39m\u001b[38;5;241m.\u001b[39m_engine\u001b[38;5;241m.\u001b[39mget_loc(casted_key)\n\u001b[1;32m   3622\u001b[0m \u001b[38;5;28;01mexcept\u001b[39;00m \u001b[38;5;167;01mKeyError\u001b[39;00m \u001b[38;5;28;01mas\u001b[39;00m err:\n\u001b[0;32m-> 3623\u001b[0m     \u001b[38;5;28;01mraise\u001b[39;00m \u001b[38;5;167;01mKeyError\u001b[39;00m(key) \u001b[38;5;28;01mfrom\u001b[39;00m \u001b[38;5;21;01merr\u001b[39;00m\n\u001b[1;32m   3624\u001b[0m \u001b[38;5;28;01mexcept\u001b[39;00m \u001b[38;5;167;01mTypeError\u001b[39;00m:\n\u001b[1;32m   3625\u001b[0m     \u001b[38;5;66;03m# If we have a listlike key, _check_indexing_error will raise\u001b[39;00m\n\u001b[1;32m   3626\u001b[0m     \u001b[38;5;66;03m#  InvalidIndexError. Otherwise we fall through and re-raise\u001b[39;00m\n\u001b[1;32m   3627\u001b[0m     \u001b[38;5;66;03m#  the TypeError.\u001b[39;00m\n\u001b[1;32m   3628\u001b[0m     \u001b[38;5;28mself\u001b[39m\u001b[38;5;241m.\u001b[39m_check_indexing_error(key)\n",
      "\u001b[0;31mKeyError\u001b[0m: 0"
     ]
    }
   ],
   "source": [
    "remove_stopwords(dadjokes)\n",
    "remove_punctuation(dadjokes)"
   ]
  },
  {
   "cell_type": "code",
   "execution_count": 0,
   "metadata": {
    "collapsed": false
   },
   "outputs": [
   ],
   "source": [
   ]
  }
 ],
 "metadata": {
  "kernelspec": {
   "display_name": "Python (nlp_env)",
   "language": "python",
   "metadata": {
    "debugger": true
   },
   "name": "nlp_env",
   "resource_dir": "/projects/0ddeade5-3577-4fe8-8cd6-8a0cb653428e/.local/share/jupyter/kernels/nlp_env"
  },
  "language_info": {
   "codemirror_mode": {
    "name": "ipython",
    "version": 3
   },
   "file_extension": ".py",
   "mimetype": "text/x-python",
   "name": "python",
   "nbconvert_exporter": "python",
   "pygments_lexer": "ipython3",
   "version": "3.8.13"
  }
 },
 "nbformat": 4,
 "nbformat_minor": 4
}