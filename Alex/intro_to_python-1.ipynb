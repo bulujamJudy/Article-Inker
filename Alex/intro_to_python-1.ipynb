{
 "cells": [
  {
   "cell_type": "markdown",
   "metadata": {
    "collapsed": false
   },
   "source": [
    "# Python Basics"
   ]
  },
  {
   "cell_type": "markdown",
   "metadata": {
    "collapsed": false
   },
   "source": [
    "The goal of this notebook is to provide students with knowledge of the fundamentals of python. We will take a more interactive approach than most class room settings and ask the students to do some research on their own then bring their learnings back here to share with the class. \n",
    "\n"
   ]
  },
  {
   "cell_type": "markdown",
   "metadata": {
    "collapsed": false
   },
   "source": [
    "### Variables\n",
    "\n"
   ]
  },
  {
   "cell_type": "markdown",
   "metadata": {
    "collapsed": false
   },
   "source": [
    "Variables work by assigning a value to a specific word or string of characters. It can be done using the \"=\" sign. This assigns whatever is on the right the string of characters on the left. We'll go ahead and try assigning a few variables in the next block."
   ]
  },
  {
   "cell_type": "code",
   "execution_count": 1,
   "metadata": {
    "collapsed": false
   },
   "outputs": [
    {
     "data": {
      "text/plain": [
       "1"
      ]
     },
     "execution_count": 1,
     "metadata": {
     },
     "output_type": "execute_result"
    }
   ],
   "source": [
    "a = 1\n",
    "b = 2\n",
    "c = 3\n",
    "a # when you put a variable by itself, its value will be printed (This is a comment - anything after a # on the same line will be ignored)"
   ]
  },
  {
   "cell_type": "markdown",
   "metadata": {
    "collapsed": false
   },
   "source": [
    "We can also perform basic algebra to these variables and save the output to a new variable"
   ]
  },
  {
   "cell_type": "code",
   "execution_count": 2,
   "metadata": {
    "collapsed": false
   },
   "outputs": [
    {
     "data": {
      "text/plain": [
       "3"
      ]
     },
     "execution_count": 2,
     "metadata": {
     },
     "output_type": "execute_result"
    }
   ],
   "source": [
    "d = a + b\n",
    "d"
   ]
  },
  {
   "cell_type": "code",
   "execution_count": 3,
   "metadata": {
    "collapsed": false
   },
   "outputs": [
    {
     "data": {
      "text/plain": [
       "2"
      ]
     },
     "execution_count": 3,
     "metadata": {
     },
     "output_type": "execute_result"
    }
   ],
   "source": [
    "e = c - a\n",
    "e"
   ]
  },
  {
   "cell_type": "code",
   "execution_count": 4,
   "metadata": {
    "collapsed": false
   },
   "outputs": [
    {
     "data": {
      "text/plain": [
       "6"
      ]
     },
     "execution_count": 4,
     "metadata": {
     },
     "output_type": "execute_result"
    }
   ],
   "source": [
    "f = b * c\n",
    "f"
   ]
  },
  {
   "cell_type": "code",
   "execution_count": 5,
   "metadata": {
    "collapsed": false
   },
   "outputs": [
    {
     "data": {
      "text/plain": [
       "0.5"
      ]
     },
     "execution_count": 5,
     "metadata": {
     },
     "output_type": "execute_result"
    }
   ],
   "source": [
    "g = a / b\n",
    "g"
   ]
  },
  {
   "cell_type": "markdown",
   "metadata": {
    "collapsed": false
   },
   "source": [
    "Sometimes we want to update the value of one variable, so we can do this"
   ]
  },
  {
   "cell_type": "code",
   "execution_count": 6,
   "metadata": {
    "collapsed": false
   },
   "outputs": [
    {
     "data": {
      "text/plain": [
       "1.0"
      ]
     },
     "execution_count": 6,
     "metadata": {
     },
     "output_type": "execute_result"
    }
   ],
   "source": [
    "g = g*2 # the same thing works for /, +, and -\n",
    "g"
   ]
  },
  {
   "cell_type": "markdown",
   "metadata": {
    "collapsed": false
   },
   "source": [
    "This can get quite annoying with longer variable names, so we can do the following"
   ]
  },
  {
   "cell_type": "code",
   "execution_count": 7,
   "metadata": {
    "collapsed": false
   },
   "outputs": [
    {
     "data": {
      "text/plain": [
       "3.0"
      ]
     },
     "execution_count": 7,
     "metadata": {
     },
     "output_type": "execute_result"
    }
   ],
   "source": [
    "f/=2 # there is also +=, -=, and *=\n",
    "f"
   ]
  },
  {
   "cell_type": "markdown",
   "metadata": {
    "collapsed": false
   },
   "source": [
    "There are tons of different types of variables we can make. For this next section, we will ask the students to go out and figure out how to create the following types of variable: strings, floats and booleans. Once you have created these variables, try the same operations we used above and see what they do."
   ]
  },
  {
   "cell_type": "markdown",
   "metadata": {
    "collapsed": false
   },
   "source": [
    "Create a few string variables here, then try to add them together, subtract them, multiply them and divide them to see what happens. You may get an error, and thats okay. Its important to know what can and can't be done with a type of data."
   ]
  },
  {
   "cell_type": "code",
   "execution_count": 0,
   "metadata": {
    "collapsed": false
   },
   "outputs": [
   ],
   "source": [
   ]
  },
  {
   "cell_type": "markdown",
   "metadata": {
    "collapsed": false
   },
   "source": [
    "Create a few float variables here, then try to add them together, subtract them, multiply them and divide them to see what happens. You may get an error, and thats okay. Its important to know what can and can't be done with a type of data."
   ]
  },
  {
   "cell_type": "code",
   "execution_count": 9,
   "metadata": {
    "collapsed": false
   },
   "outputs": [
    {
     "name": "stdout",
     "output_type": "stream",
     "text": [
      "10.35\n"
     ]
    }
   ],
   "source": [
    "a= 2.3\n",
    "b = 4.5\n",
    "c = a * b\n",
    "print(c)"
   ]
  },
  {
   "cell_type": "markdown",
   "metadata": {
    "collapsed": false
   },
   "source": [
    "Create a few boolean variables here, then try to add them together, subtract them, multiply them and divide them to see what happens. You may get an error, and thats okay. Its important to know what can and can't be done with a type of data."
   ]
  },
  {
   "cell_type": "code",
   "execution_count": 12,
   "metadata": {
    "collapsed": false
   },
   "outputs": [
    {
     "data": {
      "text/plain": [
       "0"
      ]
     },
     "execution_count": 12,
     "metadata": {
     },
     "output_type": "execute_result"
    }
   ],
   "source": [
    "a = True\n",
    "b = False\n",
    "a * b"
   ]
  },
  {
   "cell_type": "markdown",
   "metadata": {
    "collapsed": false
   },
   "source": [
    "### Lists, Dictionaries, and Tuples"
   ]
  },
  {
   "cell_type": "markdown",
   "metadata": {
    "collapsed": false
   },
   "source": [
    "Lists work similarly to the variables we created above but store multiple values. We'll cover the three types metioned above then ask the students to try and create their own versions of them."
   ]
  },
  {
   "cell_type": "markdown",
   "metadata": {
    "collapsed": false
   },
   "source": [
    "First up, lists. you can create a list with the following code."
   ]
  },
  {
   "cell_type": "code",
   "execution_count": 14,
   "metadata": {
    "collapsed": false
   },
   "outputs": [
   ],
   "source": [
    "my_list = [1, 2, 3, 4, 5]"
   ]
  },
  {
   "cell_type": "markdown",
   "metadata": {
    "collapsed": false
   },
   "source": [
    "To access a specific item from the list, you would do the following."
   ]
  },
  {
   "cell_type": "code",
   "execution_count": 15,
   "metadata": {
    "collapsed": false
   },
   "outputs": [
    {
     "data": {
      "text/plain": [
       "3"
      ]
     },
     "execution_count": 15,
     "metadata": {
     },
     "output_type": "execute_result"
    }
   ],
   "source": [
    "my_list[2] # here, 2 is the index you are accessing"
   ]
  },
  {
   "cell_type": "markdown",
   "metadata": {
    "collapsed": false
   },
   "source": [
    "The first element in the list is at index 0, then the second element is at index 1 and so on."
   ]
  },
  {
   "cell_type": "markdown",
   "metadata": {
    "collapsed": false
   },
   "source": [
    "Next, we will create a tuple. A tuple works similarly to a list but you can't edit values stored in a tuple once it has been created."
   ]
  },
  {
   "cell_type": "code",
   "execution_count": 16,
   "metadata": {
    "collapsed": false
   },
   "outputs": [
   ],
   "source": [
    "my_tup = (\"a\", \"b\", \"c\", \"d\")"
   ]
  },
  {
   "cell_type": "markdown",
   "metadata": {
    "collapsed": false
   },
   "source": [
    "You can access the elements the same way as a list"
   ]
  },
  {
   "cell_type": "code",
   "execution_count": 17,
   "metadata": {
    "collapsed": false
   },
   "outputs": [
    {
     "data": {
      "text/plain": [
       "'c'"
      ]
     },
     "execution_count": 17,
     "metadata": {
     },
     "output_type": "execute_result"
    }
   ],
   "source": [
    "my_tup[2]"
   ]
  },
  {
   "cell_type": "markdown",
   "metadata": {
    "collapsed": false
   },
   "source": [
    "This will throw an error:"
   ]
  },
  {
   "cell_type": "code",
   "execution_count": 18,
   "metadata": {
    "collapsed": false
   },
   "outputs": [
    {
     "ename": "TypeError",
     "evalue": "'tuple' object does not support item assignment",
     "output_type": "error",
     "traceback": [
      "\u001b[0;31m---------------------------------------------------------------------------\u001b[0m",
      "\u001b[0;31mTypeError\u001b[0m                                 Traceback (most recent call last)",
      "Input \u001b[0;32mIn [18]\u001b[0m, in \u001b[0;36m<cell line: 1>\u001b[0;34m()\u001b[0m\n\u001b[0;32m----> 1\u001b[0m my_tup[\u001b[38;5;241m2\u001b[39m] \u001b[38;5;241m=\u001b[39m \u001b[38;5;124m'\u001b[39m\u001b[38;5;124md\u001b[39m\u001b[38;5;124m'\u001b[39m\n",
      "\u001b[0;31mTypeError\u001b[0m: 'tuple' object does not support item assignment"
     ]
    }
   ],
   "source": [
    "my_tup[2] = 'd'"
   ]
  },
  {
   "cell_type": "markdown",
   "metadata": {
    "collapsed": false
   },
   "source": [
    "Finally, we have dictionaries. Like the others, they can store any variable type"
   ]
  },
  {
   "cell_type": "code",
   "execution_count": 19,
   "metadata": {
    "collapsed": false
   },
   "outputs": [
   ],
   "source": [
    "my_dictionary = {\n",
    "    \"Name\": \"Cameron\",\n",
    "    5: [\"Running\", \"Teaching\", \"Chess\"],\n",
    "    True: 23\n",
    "}"
   ]
  },
  {
   "cell_type": "markdown",
   "metadata": {
    "collapsed": false
   },
   "source": [
    "To access the values stored in a dictionary, you have to use the name of the \"key\" in the square brackets. The key can be one of many types, but not all"
   ]
  },
  {
   "cell_type": "code",
   "execution_count": 21,
   "metadata": {
    "collapsed": false
   },
   "outputs": [
    {
     "data": {
      "text/plain": [
       "['Running', 'Teaching', 'Chess']"
      ]
     },
     "execution_count": 21,
     "metadata": {
     },
     "output_type": "execute_result"
    }
   ],
   "source": [
    "my_dictionary[5]"
   ]
  },
  {
   "cell_type": "markdown",
   "metadata": {
    "collapsed": false
   },
   "source": [
    "Now its your turn. We will have students create their own versions of these 3 data types with special challenges for each."
   ]
  },
  {
   "cell_type": "markdown",
   "metadata": {
    "collapsed": false
   },
   "source": [
    "Below, create a list of your favorite colors. Then figure out how to add a new element to the end of the list. Finally change a value in the list to something new."
   ]
  },
  {
   "cell_type": "code",
   "execution_count": 23,
   "metadata": {
    "collapsed": false
   },
   "outputs": [
    {
     "data": {
      "text/plain": [
       "['blue', 'purple']"
      ]
     },
     "execution_count": 23,
     "metadata": {
     },
     "output_type": "execute_result"
    }
   ],
   "source": [
    "colors = [\"blue\", \"purple\"]\n",
    "colors"
   ]
  },
  {
   "cell_type": "markdown",
   "metadata": {
    "collapsed": false
   },
   "source": [
    "Below, create a tuple of your favorite dogs. Then figure out how to print out just the first letter of an element."
   ]
  },
  {
   "cell_type": "code",
   "execution_count": 26,
   "metadata": {
    "collapsed": false
   },
   "outputs": [
    {
     "data": {
      "text/plain": [
       "('golden_retriever', 'abrador')"
      ]
     },
     "execution_count": 26,
     "metadata": {
     },
     "output_type": "execute_result"
    }
   ],
   "source": [
    "dogs = (\"golden retriever\", \"Husky\")\n",
    "dogs1 = (\"golden_retriever\", \"abrador\")\n",
    "dogs1"
   ]
  },
  {
   "cell_type": "markdown",
   "metadata": {
    "collapsed": false
   },
   "source": [
    "Below, create a dictionary of your favorite dogs. Then figure out how to add a new value to the dictionary. Finally, figure out how to change a value in the dictionary."
   ]
  },
  {
   "cell_type": "code",
   "execution_count": 27,
   "metadata": {
    "collapsed": false
   },
   "outputs": [
    {
     "data": {
      "text/plain": [
       "'Yorkie'"
      ]
     },
     "execution_count": 27,
     "metadata": {
     },
     "output_type": "execute_result"
    }
   ],
   "source": [
    "dogDictionary = {\n",
    "    1: \"Golden Retriever\",\n",
    "    2: \"Husky\",\n",
    "    3: \"Yorkie\",\n",
    "    4: \"Poodle\",\n",
    "    5: \"German Shepherd\",\n",
    "}\n",
    "dogDictionary[3]"
   ]
  },
  {
   "cell_type": "markdown",
   "metadata": {
    "collapsed": false
   },
   "source": [
    "### For loops, while loops, and if statements "
   ]
  },
  {
   "cell_type": "markdown",
   "metadata": {
    "collapsed": false
   },
   "source": [
    "We will learn more about for loops in the next lesson. For now, we will use them to go through a list and print out each element."
   ]
  },
  {
   "cell_type": "code",
   "execution_count": 29,
   "metadata": {
    "collapsed": false
   },
   "outputs": [
    {
     "name": "stdout",
     "output_type": "stream",
     "text": [
      "1\n",
      "2\n",
      "3\n",
      "4\n",
      "5\n"
     ]
    }
   ],
   "source": [
    "for i in my_list:\n",
    "    print(i)"
   ]
  },
  {
   "cell_type": "markdown",
   "metadata": {
    "collapsed": false
   },
   "source": [
    "Next, we will look at how to make a list run a specific number of times."
   ]
  },
  {
   "cell_type": "code",
   "execution_count": 33,
   "metadata": {
    "collapsed": false
   },
   "outputs": [
    {
     "name": "stdout",
     "output_type": "stream",
     "text": [
      "i =  0\n",
      "i =  1\n",
      "i =  2\n",
      "i =  3\n",
      "i =  4\n",
      "i =  5\n"
     ]
    }
   ],
   "source": [
    "for i in range(6): # range functions the same here as the list [0,1,2,3,4,5]\n",
    "    print('i = ', i)"
   ]
  },
  {
   "cell_type": "markdown",
   "metadata": {
    "collapsed": false
   },
   "source": [
    "Next, we'll take a look at while loops. In general, you can make a while loop do anything that a for loop can do but with slightly different syntax, so if you find youself understanding while loops better than for loops, you can just focus on using while loops. "
   ]
  },
  {
   "cell_type": "markdown",
   "metadata": {
    "collapsed": false
   },
   "source": [
    "In the block below, we will make a while loop that runs 5 times. For while loops, we can't specify how long they will run for ahead of time so its important for us to create an achievable exit condition. An exit condition is just the condition that will cause the code to stop running. This is checked every time, immediatly before the code runs or reruns. We want to make sure that this condition will eventually happen, otherwise the code will run until something crashes or we manually close it"
   ]
  },
  {
   "cell_type": "code",
   "execution_count": 34,
   "metadata": {
    "collapsed": false
   },
   "outputs": [
    {
     "name": "stdout",
     "output_type": "stream",
     "text": [
      "Hello World\n",
      "Hello World\n",
      "Hello World\n",
      "Hello World\n",
      "Hello World\n"
     ]
    }
   ],
   "source": [
    "i = 0\n",
    "while i < 5:\n",
    "    print(\"Hello World\")\n",
    "    i = i + 1"
   ]
  },
  {
   "cell_type": "markdown",
   "metadata": {
    "collapsed": false
   },
   "source": [
    "Now for if statements. The if-elif-else statement is used to conditionally execute a statement or a block of statements. Conditions can be true or false, execute one thing when the condition is true, something else when the condition is false."
   ]
  },
  {
   "cell_type": "code",
   "execution_count": 37,
   "metadata": {
    "collapsed": false
   },
   "outputs": [
    {
     "name": "stdout",
     "output_type": "stream",
     "text": [
      "a is greater than b\n"
     ]
    }
   ],
   "source": [
    "a = 1\n",
    "b = 2\n",
    "if a < b:\n",
    "    print(\"a is greater than b\")"
   ]
  },
  {
   "cell_type": "markdown",
   "metadata": {
    "collapsed": false
   },
   "source": [
    "We can add else statements to the above. An else statement is what will be run if the original statement is false."
   ]
  },
  {
   "cell_type": "code",
   "execution_count": 38,
   "metadata": {
    "collapsed": false
   },
   "outputs": [
    {
     "name": "stdout",
     "output_type": "stream",
     "text": [
      "b is less than a\n"
     ]
    }
   ],
   "source": [
    "a = 1\n",
    "b = 2\n",
    "if a > b:\n",
    "    print(\"a is greater than b\")\n",
    "else:\n",
    "    print(\"b is less than a\")"
   ]
  },
  {
   "cell_type": "markdown",
   "metadata": {
    "collapsed": false
   },
   "source": [
    "Additionally, we can use elif statements to add additional conditions to the structure."
   ]
  },
  {
   "cell_type": "code",
   "execution_count": 40,
   "metadata": {
    "collapsed": false
   },
   "outputs": [
    {
     "name": "stdout",
     "output_type": "stream",
     "text": [
      "a equals b\n"
     ]
    }
   ],
   "source": [
    "a = 1\n",
    "b = 1\n",
    "if a > b:\n",
    "    print(\"a is greater than b\")\n",
    "elif a == b:\n",
    "    print(\"a equals b\")\n",
    "else:\n",
    "    print(\"b is less than a\")"
   ]
  },
  {
   "cell_type": "markdown",
   "metadata": {
    "collapsed": false
   },
   "source": [
    "Now its your turn. Either break up into 3 teams and have each team solve one of the blocks or solve them all together."
   ]
  },
  {
   "cell_type": "markdown",
   "metadata": {
    "collapsed": false
   },
   "source": [
    "In the next block, create a for loop that counts from 0 to 10 and prints out each number. Additionally, if the number is less than 3, print out \"This is a small number\".\n",
    "\n"
   ]
  },
  {
   "cell_type": "code",
   "execution_count": 43,
   "metadata": {
    "collapsed": false
   },
   "outputs": [
    {
     "name": "stdout",
     "output_type": "stream",
     "text": [
      "0 This is a small number\n",
      "1 This is a small number\n",
      "2 This is a small number\n",
      "3\n",
      "4\n",
      "5\n",
      "6\n",
      "7\n",
      "8\n",
      "9\n",
      "10\n"
     ]
    }
   ],
   "source": [
    "for i in range(11):\n",
    "    if (i<3):\n",
    "        print (i, \"This is a small number\")\n",
    "    else:\n",
    "        print(i)"
   ]
  },
  {
   "cell_type": "markdown",
   "metadata": {
    "collapsed": false
   },
   "source": [
    "In the next block, create a while loop that prints out all of the even numbers between 1 and 10. Additionally, if the number is between 5 and 9, print the number out a second time.\n",
    "\n"
   ]
  },
  {
   "cell_type": "code",
   "execution_count": 45,
   "metadata": {
    "collapsed": false
   },
   "outputs": [
    {
     "name": "stdout",
     "output_type": "stream",
     "text": [
      "2\n",
      "4\n",
      "6\n",
      "6\n",
      "8\n",
      "8\n",
      "10\n"
     ]
    }
   ],
   "source": [
    "# i=1\n",
    "# while i<=5:\n",
    "#     if (9>i*2>5):\n",
    "#         print(i*2)\n",
    "#     print(i*2)\n",
    "#     i+=1\n",
    "for i in range (1,11):\n",
    "    if i%2==0:\n",
    "        print(i)\n",
    "    if i%2==0 and i>5 and i<9:\n",
    "        print(i)"
   ]
  },
  {
   "cell_type": "markdown",
   "metadata": {
    "collapsed": false
   },
   "source": [
    "In the next block, ask the user to input 3 items and add them all to a list. Then. create a loop that prints out each item that the user entered.\n",
    "\n"
   ]
  },
  {
   "cell_type": "code",
   "execution_count": 48,
   "metadata": {
    "cocalc": {
     "outputs": {
      "1": {
       "name": "input",
       "opts": {
        "password": false,
        "prompt": ""
       },
       "output_type": "stream",
       "value": "1"
      },
      "2": {
       "name": "input",
       "opts": {
        "password": false,
        "prompt": ""
       },
       "output_type": "stream",
       "value": "2"
      },
      "3": {
       "name": "input",
       "opts": {
        "password": false,
        "prompt": ""
       },
       "output_type": "stream",
       "value": "3"
      }
     }
    },
    "collapsed": false
   },
   "outputs": [
    {
     "name": "stdout",
     "output_type": "stream",
     "text": [
      "Please enter three items\n"
     ]
    },
    {
     "name": "stdout",
     "output_type": "stream",
     "text": " 1"
    },
    {
     "name": "stdout",
     "output_type": "stream",
     "text": " 2"
    },
    {
     "name": "stdout",
     "output_type": "stream",
     "text": " 3"
    },
    {
     "name": "stdout",
     "output_type": "stream",
     "text": [
      "1\n",
      "2\n",
      "3\n"
     ]
    }
   ],
   "source": [
    "# ans = [] \n",
    "# for i in range(3):\n",
    "#     a = input(\"Enter the items\")\n",
    "#     ans.append(a)\n",
    "# print(ans)\n",
    "print (\"Please enter three items\")\n",
    "a=input()\n",
    "b=input()\n",
    "c=input()\n",
    "abc=[a,b,c]\n",
    "for i in range(3):\n",
    "    print(abc[i])"
   ]
  },
  {
   "cell_type": "markdown",
   "metadata": {
    "collapsed": false
   },
   "source": [
    "### **Slicing**\n",
    "\n",
    "List slicing is a common practice in Python and can be used both with positive indexes as well as negative indexes.\n",
    "\n",
    "a\\[start:stop\\]  \\# items start through stop\\-1\n",
    "\n",
    "a\\[start:\\]      \\# items start through the rest of the array\n",
    "\n",
    "a\\[:stop\\]       \\# items from the beginning through stop\\-1\n",
    "\n",
    "a\\[:\\]           \\# a copy of the whole array\n",
    "\n",
    "There is a slice funtion in python as well. Which I have never used but you guys can consider using that!\n"
   ]
  },
  {
   "cell_type": "code",
   "execution_count": 25,
   "metadata": {
    "collapsed": false,
    "scrolled": true
   },
   "outputs": [
    {
     "name": "stdout",
     "output_type": "stream",
     "text": [
      "Original string: \n",
      "InterviewKickstart.\n",
      "\n",
      "String sliced: \n",
      "Intervie\n",
      "neve\n",
      "\n",
      "Original list: \n",
      "[1, 2, 3, 4, 5, 6, 7, 8, 9, 10]\n",
      "\n",
      "List sliced: \n",
      "[1, 2, 3, 4, 5, 6, 7, 8, 9]\n",
      "[2, 5, 8]\n"
     ]
    }
   ],
   "source": [
    "# String slicing using slice function\n",
    "stringExample = \"InterviewKickstart.\"\n",
    "print(\"Original string: \")\n",
    "print(stringExample)\n",
    "\n",
    "stringSlice1 = slice(8)\n",
    "stringSlice2 = slice(1, 8, 2)\n",
    "\n",
    "print(\"\\nString sliced: \")\n",
    "print(stringExample[stringSlice1])\n",
    "print(stringExample[stringSlice2])\n",
    "\n",
    "# List slicing\n",
    "listExample = [1, 2, 3, 4, 5, 6, 7, 8, 9, 10]\n",
    "print(\"\\nOriginal list: \")\n",
    "print(listExample)\n",
    "\n",
    "listSlice1 = slice(9)\n",
    "listSlice2 = slice(1, 9, 3)\n",
    "print(\"\\nList sliced: \")\n",
    "print(listExample[listSlice1])\n",
    "print(listExample[listSlice2])"
   ]
  },
  {
   "cell_type": "code",
   "execution_count": 26,
   "metadata": {
    "collapsed": false
   },
   "outputs": [
    {
     "name": "stdout",
     "output_type": "stream",
     "text": [
      "\n",
      "Original list: \n",
      "[1, 2, 3, 4, 5, 6, 7, 8, 9, 10]\n",
      "\n",
      "List sliced: \n",
      "[1]\n",
      "[10, 7, 4]\n"
     ]
    }
   ],
   "source": [
    "# List Slicing using slice function\n",
    "listExample = [1, 2, 3, 4, 5, 6, 7, 8, 9, 10]\n",
    "print(\"\\nOriginal list: \")\n",
    "print(listExample)\n",
    "\n",
    "listSlice1 = slice(-9)\n",
    "listSlice2 = slice(-1, -9, -3)\n",
    "print(\"\\nList sliced: \")\n",
    "print(listExample[listSlice1])\n",
    "print(listExample[listSlice2])"
   ]
  },
  {
   "cell_type": "markdown",
   "metadata": {
    "collapsed": false
   },
   "source": [
    "Slicing is yet another super practical aspect of Python. It makes accessing strings, lists and tuples partially very effortless.\n",
    "\n",
    "Let’s say you have a list: lst = \\[1,2,3,4,5\\]\n",
    "\n",
    "Ex. 1:\n",
    "\n",
    "If you slice it as: lst\\[1:3\\]\n",
    "\n",
    "You will get: \\[2,3\\]\n",
    "\n",
    "Index starts at zero, start is inclusive but stop is exclusive.\n"
   ]
  },
  {
   "cell_type": "code",
   "execution_count": 2,
   "metadata": {
    "collapsed": false,
    "scrolled": true
   },
   "outputs": [
    {
     "name": "stdout",
     "output_type": "stream",
     "text": [
      "[70, 20, 10]\n"
     ]
    }
   ],
   "source": [
    "Lst = [50, 70, 30, 20, 90, 10, 50]\n",
    "# Display list\n",
    "print(Lst[1::2])"
   ]
  },
  {
   "cell_type": "markdown",
   "metadata": {
    "collapsed": false
   },
   "source": [
    "Index \\-1 represents the last element and \\-n represents the first element of the list\\(considering n as the length of the list\\). Lists can also be manipulated using negative indexes also.\n"
   ]
  },
  {
   "cell_type": "code",
   "execution_count": 21,
   "metadata": {
    "collapsed": false,
    "scrolled": true
   },
   "outputs": [
    {
     "name": "stdout",
     "output_type": "stream",
     "text": [
      "[50, 70, 30, 20, 90, 10, 50]\n",
      "[70, 30, 20, 90]\n"
     ]
    }
   ],
   "source": [
    "Lst = [50, 70, 30, 20, 90, 10, 50]\n",
    "# Display list\n",
    "print(Lst[-7::1])\n",
    "print(Lst[1:5])"
   ]
  },
  {
   "cell_type": "code",
   "execution_count": 23,
   "metadata": {
    "collapsed": false,
    "scrolled": true
   },
   "outputs": [
    {
     "name": "stdout",
     "output_type": "stream",
     "text": [
      "\n",
      "Original List:\n",
      " [1, 2, 3, 4, 5, 6, 7, 8, 9]\n",
      "\n",
      "Sliced Lists: \n",
      "[4, 6, 8]\n",
      "[1, 3, 5, 7, 9]\n",
      "[1, 2, 3, 4, 5, 6, 7, 8, 9]\n"
     ]
    }
   ],
   "source": [
    "List = [1, 2, 3, 4, 5, 6, 7, 8, 9]\n",
    " \n",
    "# Show original list\n",
    "print(\"\\nOriginal List:\\n\", List)\n",
    "print(\"\\nSliced Lists: \")\n",
    "\n",
    "# Display sliced list\n",
    "print(List[3:9:2])\n",
    "\n",
    "# Display sliced list\n",
    "print(List[::2])\n",
    "\n",
    "# Display sliced list\n",
    "print(List[::])"
   ]
  },
  {
   "cell_type": "markdown",
   "metadata": {
    "collapsed": false
   },
   "source": [
    "Leaving any argument like Initial, End or IndexJump blank will lead to the use of default values i.e 0 as Initial, length of list as End and 1 as IndexJump."
   ]
  },
  {
   "cell_type": "markdown",
   "metadata": {
    "collapsed": false
   },
   "source": [
    "### Functions\n",
    "\n"
   ]
  },
  {
   "cell_type": "markdown",
   "metadata": {
    "collapsed": false
   },
   "source": [
    "Functions act like variables but instead of storing a value, they store lines of code. Below we can see how a function is created and used."
   ]
  },
  {
   "cell_type": "code",
   "execution_count": 1,
   "metadata": {
    "collapsed": false
   },
   "outputs": [
   ],
   "source": [
    "def my_first_function():\n",
    "    print('Hello world')"
   ]
  },
  {
   "cell_type": "code",
   "execution_count": 2,
   "metadata": {
    "collapsed": false
   },
   "outputs": [
    {
     "name": "stdout",
     "output_type": "stream",
     "text": [
      "Hello world\n"
     ]
    }
   ],
   "source": [
    "my_first_function()"
   ]
  },
  {
   "cell_type": "markdown",
   "metadata": {
    "collapsed": false
   },
   "source": [
    "Whenever the computer sees the function being used, it automatically runs the code stored inside of that function."
   ]
  },
  {
   "cell_type": "markdown",
   "metadata": {
    "collapsed": false
   },
   "source": [
    "Additionally, functions can take in one or multiple values to use in their code, as we can see below."
   ]
  },
  {
   "cell_type": "code",
   "execution_count": 4,
   "metadata": {
    "collapsed": false
   },
   "outputs": [
   ],
   "source": [
    "def add_numbers(a, b, c):\n",
    "    total = a + b + c\n",
    "    print(total)"
   ]
  },
  {
   "cell_type": "code",
   "execution_count": 5,
   "metadata": {
    "collapsed": false
   },
   "outputs": [
    {
     "name": "stdout",
     "output_type": "stream",
     "text": [
      "6\n"
     ]
    }
   ],
   "source": [
    "add_numbers(1, 2, 3)"
   ]
  },
  {
   "cell_type": "markdown",
   "metadata": {
    "collapsed": false
   },
   "source": [
    "Finnally, functions can have a \"return\" statement. This is what the function sends back to the place it was called. You can think of functions like black boxes where the parameters in the parentheses are the input and the return statement is the output. This output can be saved to a variable to be used later. We will redefine the add_numbers function from above using a return statement to show this off."
   ]
  },
  {
   "cell_type": "code",
   "execution_count": 6,
   "metadata": {
    "collapsed": false
   },
   "outputs": [
   ],
   "source": [
    "def add_numbers(a, b, c):\n",
    "    total = a + b + c\n",
    "    return total"
   ]
  },
  {
   "cell_type": "code",
   "execution_count": 7,
   "metadata": {
    "collapsed": false
   },
   "outputs": [
    {
     "data": {
      "text/plain": [
       "6"
      ]
     },
     "execution_count": 7,
     "metadata": {
     },
     "output_type": "execute_result"
    }
   ],
   "source": [
    "out = add_numbers(1, 2, 3)\n",
    "out"
   ]
  },
  {
   "cell_type": "markdown",
   "metadata": {
    "collapsed": false
   },
   "source": [
    "Now its your turn! You can either work on each of the following challenges in teams of 2 or walk through each one as a group. In any case, it is recommended to look at them at a high level together so that everyone understands the concepts in each section."
   ]
  },
  {
   "cell_type": "markdown",
   "metadata": {
    "collapsed": false
   },
   "source": [
    "In the block below, create a function that takes in 2 numbers and returns True if the product of the numbers is positive and False in all other cases.\n",
    "\n"
   ]
  },
  {
   "cell_type": "code",
   "execution_count": 5,
   "metadata": {
    "cocalc": {
     "outputs": {
      "0": {
       "name": "input",
       "opts": {
        "password": false,
        "prompt": "Give a number"
       },
       "output_type": "stream",
       "value": "1"
      },
      "1": {
       "name": "input",
       "opts": {
        "password": false,
        "prompt": "Give another number"
       },
       "output_type": "stream",
       "value": "2"
      }
     }
    },
    "collapsed": false
   },
   "outputs": [
    {
     "name": "stdout",
     "output_type": "stream",
     "text": "Give a number 1"
    },
    {
     "name": "stdout",
     "output_type": "stream",
     "text": "Give another number 2"
    },
    {
     "data": {
      "text/plain": [
       "True"
      ]
     },
     "execution_count": 5,
     "metadata": {
     },
     "output_type": "execute_result"
    }
   ],
   "source": [
    "p1 = input(\"Give a number\")\n",
    "p2 = input(\"Give another number\")\n",
    "\n",
    "def result(a,b):\n",
    "    res = a * b\n",
    "    if res > 0:\n",
    "        return True\n",
    "    else:\n",
    "        return False\n",
    "result(int(p1),int(p2))"
   ]
  },
  {
   "cell_type": "markdown",
   "metadata": {
    "collapsed": false
   },
   "source": [
    "In the block below, create a function that takes in a string and returns the string in reverse order. For example, if the input was \"Hello\" the output should be \"olleH\"\n",
    "\n"
   ]
  },
  {
   "cell_type": "code",
   "execution_count": 4,
   "metadata": {
    "cocalc": {
     "outputs": {
      "0": {
       "name": "input",
       "opts": {
        "password": false,
        "prompt": "Type something"
       },
       "output_type": "stream",
       "value": "yoo"
      }
     }
    },
    "collapsed": false
   },
   "outputs": [
    {
     "name": "stdout",
     "output_type": "stream",
     "text": "Type something yoo"
    },
    {
     "data": {
      "text/plain": [
       "'ooy'"
      ]
     },
     "execution_count": 4,
     "metadata": {
     },
     "output_type": "execute_result"
    }
   ],
   "source": [
    "text = input(\"Type something\")\n",
    "\n",
    "def rev(t):\n",
    "    t = t[::-1]\n",
    "    return t\n",
    "rev(text)"
   ]
  },
  {
   "cell_type": "code",
   "execution_count": 10,
   "metadata": {
    "cocalc": {
     "outputs": {
      "0": {
       "name": "input",
       "opts": {
        "password": false,
        "prompt": "Type something"
       },
       "output_type": "stream",
       "value": "wad"
      },
      "1": {
       "name": "input",
       "opts": {
        "password": false,
        "prompt": "Are you done?"
       },
       "output_type": "stream",
       "value": "w"
      },
      "2": {
       "name": "input",
       "opts": {
        "password": false,
        "prompt": "Type something"
       },
       "output_type": "stream",
       "value": "wdwapd"
      },
      "3": {
       "name": "input",
       "opts": {
        "password": false,
        "prompt": "Are you done?"
       },
       "output_type": "stream",
       "value": "yes"
      }
     }
    },
    "collapsed": false
   },
   "outputs": [
    {
     "name": "stdout",
     "output_type": "stream",
     "text": "Type something wad"
    },
    {
     "name": "stdout",
     "output_type": "stream",
     "text": "Are you done? w"
    },
    {
     "name": "stdout",
     "output_type": "stream",
     "text": "Type something wdwapd"
    },
    {
     "name": "stdout",
     "output_type": "stream",
     "text": "Are you done? yes"
    },
    {
     "name": "stdout",
     "output_type": "stream",
     "text": [
      "wad\n",
      "wdwapd\n"
     ]
    }
   ],
   "source": [
    "list = []\n",
    "\n",
    "def lister():\n",
    "    while True:\n",
    "        p1 = input(\"Type something\")\n",
    "        list.append(p1)\n",
    "        a = input(\"Are you done?\")\n",
    "        if a == \"yes\":\n",
    "            for i in list:\n",
    "                print(i)\n",
    "            break\n",
    "lister()"
   ]
  },
  {
   "cell_type": "markdown",
   "metadata": {
    "collapsed": false
   },
   "source": [
    "In the block below, create a function that takes in a list and prints out each element 1 at a time. For example, if the input was ['Dog', 'Cat', 'Hamster'], the output should be\n",
    "\n",
    "Dog\n",
    "\n",
    "Cat\n",
    "\n",
    "Hamster\n",
    "\n"
   ]
  },
  {
   "cell_type": "code",
   "execution_count": 17,
   "metadata": {
    "collapsed": false
   },
   "outputs": [
    {
     "name": "stdout",
     "output_type": "stream",
     "text": [
      "Dog\n",
      "Cat\n",
      "Hamster\n"
     ]
    }
   ],
   "source": [
    "def lists(l):\n",
    "    for i in l:\n",
    "        print(i)\n",
    "l = ['Dog', 'Cat', 'Hamster']\n",
    "lists(l)"
   ]
  },
  {
   "cell_type": "markdown",
   "metadata": {
    "collapsed": false
   },
   "source": [
    "### Modules (Pandas and numpy)"
   ]
  },
  {
   "cell_type": "markdown",
   "metadata": {
    "collapsed": false
   },
   "source": [
    "In the following section we will be covering modules. Above, we leaned about functions and the power that they have. Modules let us use functions that other people have created to solve problems that we commonly incounter. For example, if we find that we frequently have to get a random number, instead of coding it every time, you could just import a function that either you or someone else created in the past. Basically, modules and importing lets us have access to the work of many other coders, making it a very powerful tool."
   ]
  },
  {
   "cell_type": "markdown",
   "metadata": {
    "collapsed": false
   },
   "source": [
    "Below, we will import the numpy module and use a few of its functions to show off this power"
   ]
  },
  {
   "cell_type": "markdown",
   "metadata": {
    "collapsed": false
   },
   "source": [
    "Here, we rename it to np to make it more easily accessable"
   ]
  },
  {
   "cell_type": "code",
   "execution_count": 14,
   "metadata": {
    "collapsed": false
   },
   "outputs": [
   ],
   "source": [
    "import numpy as np"
   ]
  },
  {
   "cell_type": "markdown",
   "metadata": {
    "collapsed": false
   },
   "source": [
    "Numpy is a library which is coded outside of python, making it faster. It gives us access to better and more efficient lists\n",
    "\n",
    "With it, we can make a list like this:"
   ]
  },
  {
   "cell_type": "code",
   "execution_count": 15,
   "metadata": {
    "collapsed": false
   },
   "outputs": [
    {
     "data": {
      "text/plain": [
       "array([[0., 0., 0.],\n",
       "       [0., 0., 0.]])"
      ]
     },
     "execution_count": 15,
     "metadata": {
     },
     "output_type": "execute_result"
    }
   ],
   "source": [
    "my_array = np.zeros((2,3)) # (2,3) is the shape of the array\n",
    "my_array"
   ]
  },
  {
   "cell_type": "markdown",
   "metadata": {
    "collapsed": false
   },
   "source": [
    "or like this:"
   ]
  },
  {
   "cell_type": "code",
   "execution_count": 0,
   "metadata": {
    "collapsed": false
   },
   "outputs": [
   ],
   "source": [
    "np.random.rand(3,2) # we don't need to put the shape in braces this time"
   ]
  },
  {
   "cell_type": "markdown",
   "metadata": {
    "collapsed": false
   },
   "source": [
    "Just like regular variables, we can do opperations on this list"
   ]
  },
  {
   "cell_type": "code",
   "execution_count": 0,
   "metadata": {
    "collapsed": false
   },
   "outputs": [
   ],
   "source": [
    "my_array2 = my_array + 1\n",
    "my_array3 = my_array2 * 2\n",
    "my_array2, my_array3"
   ]
  },
  {
   "cell_type": "markdown",
   "metadata": {
    "collapsed": false
   },
   "source": [
    "Make an array from my_array of all -3s:"
   ]
  },
  {
   "cell_type": "code",
   "execution_count": 16,
   "metadata": {
    "collapsed": false
   },
   "outputs": [
    {
     "data": {
      "text/plain": [
       "array([[0., 0., 0.],\n",
       "       [0., 0., 0.]])"
      ]
     },
     "execution_count": 16,
     "metadata": {
     },
     "output_type": "execute_result"
    }
   ],
   "source": [
    "my_array4 = -3 * my_array\n",
    "my_array"
   ]
  },
  {
   "cell_type": "code",
   "execution_count": 0,
   "metadata": {
    "collapsed": false
   },
   "outputs": [
   ],
   "source": [
   ]
  },
  {
   "cell_type": "markdown",
   "metadata": {
    "collapsed": false
   },
   "source": [
    "With numpy briefly explored above, we will now check out a little bit about pandas. Pandas is an awesome module that helps us deal with large amounts of data in an easy to understand way. Below we will look at some of its many functions"
   ]
  },
  {
   "cell_type": "markdown",
   "metadata": {
    "collapsed": false
   },
   "source": [
    "First, we'll have to import it. It is common practice to import pandas as pd but you are free to import it as you see fit."
   ]
  },
  {
   "cell_type": "code",
   "execution_count": 17,
   "metadata": {
    "collapsed": false
   },
   "outputs": [
   ],
   "source": [
    "import pandas as pd"
   ]
  },
  {
   "cell_type": "markdown",
   "metadata": {
    "collapsed": false
   },
   "source": [
    "Now to create a sample dataframe. Dataframes are the main feature of pandas. You can think of them as more advanced dictionaries."
   ]
  },
  {
   "cell_type": "code",
   "execution_count": 18,
   "metadata": {
    "collapsed": false
   },
   "outputs": [
    {
     "data": {
      "text/html": [
       "<div>\n",
       "<style scoped>\n",
       "    .dataframe tbody tr th:only-of-type {\n",
       "        vertical-align: middle;\n",
       "    }\n",
       "\n",
       "    .dataframe tbody tr th {\n",
       "        vertical-align: top;\n",
       "    }\n",
       "\n",
       "    .dataframe thead th {\n",
       "        text-align: right;\n",
       "    }\n",
       "</style>\n",
       "<table border=\"1\" class=\"dataframe\">\n",
       "  <thead>\n",
       "    <tr style=\"text-align: right;\">\n",
       "      <th></th>\n",
       "      <th>A</th>\n",
       "      <th>B</th>\n",
       "      <th>C</th>\n",
       "    </tr>\n",
       "  </thead>\n",
       "  <tbody>\n",
       "    <tr>\n",
       "      <th>0</th>\n",
       "      <td>1</td>\n",
       "      <td>4</td>\n",
       "      <td>7</td>\n",
       "    </tr>\n",
       "    <tr>\n",
       "      <th>1</th>\n",
       "      <td>2</td>\n",
       "      <td>5</td>\n",
       "      <td>8</td>\n",
       "    </tr>\n",
       "    <tr>\n",
       "      <th>2</th>\n",
       "      <td>3</td>\n",
       "      <td>6</td>\n",
       "      <td>9</td>\n",
       "    </tr>\n",
       "  </tbody>\n",
       "</table>\n",
       "</div>"
      ],
      "text/plain": [
       "   A  B  C\n",
       "0  1  4  7\n",
       "1  2  5  8\n",
       "2  3  6  9"
      ]
     },
     "execution_count": 18,
     "metadata": {
     },
     "output_type": "execute_result"
    }
   ],
   "source": [
    "data = pd.DataFrame({'A': [1, 2, 3], 'B': [4, 5, 6], 'C': [7, 8, 9]})\n",
    "data"
   ]
  },
  {
   "cell_type": "code",
   "execution_count": 0,
   "metadata": {
    "collapsed": false
   },
   "outputs": [
   ],
   "source": [
   ]
  },
  {
   "cell_type": "markdown",
   "metadata": {
    "collapsed": false
   },
   "source": [
    "Our dataframe is pretty small so it's easy to show the whole thing in the output, but for larger dataframes it is important to only show a few of the rows. To do this, we can use the head(x) function to show the first x rows of the dataframe or tail(x) to show the last x number of rows\n",
    "\n"
   ]
  },
  {
   "cell_type": "code",
   "execution_count": 0,
   "metadata": {
    "collapsed": false
   },
   "outputs": [
   ],
   "source": [
    "data.head(2)"
   ]
  },
  {
   "cell_type": "code",
   "execution_count": 0,
   "metadata": {
    "collapsed": false
   },
   "outputs": [
   ],
   "source": [
    "data.tail(1)"
   ]
  },
  {
   "cell_type": "markdown",
   "metadata": {
    "collapsed": false
   },
   "source": [
    "Alternatively you can look at just 1 row at a time by calling it similarly to a dictionary"
   ]
  },
  {
   "cell_type": "code",
   "execution_count": 0,
   "metadata": {
    "collapsed": false
   },
   "outputs": [
   ],
   "source": [
    "data['A']"
   ]
  },
  {
   "cell_type": "markdown",
   "metadata": {
    "collapsed": false
   },
   "source": [
    "You can also get various details about the dataframe with the following functions."
   ]
  },
  {
   "cell_type": "code",
   "execution_count": 0,
   "metadata": {
    "collapsed": false
   },
   "outputs": [
   ],
   "source": [
    "# Gives you the names of all of the columns\n",
    "data.columns"
   ]
  },
  {
   "cell_type": "code",
   "execution_count": 0,
   "metadata": {
    "collapsed": false
   },
   "outputs": [
   ],
   "source": [
    "# Tells you more about what is stored in those columns\n",
    "data.info()"
   ]
  },
  {
   "cell_type": "code",
   "execution_count": 0,
   "metadata": {
    "collapsed": false
   },
   "outputs": [
   ],
   "source": [
    "# Gives you the names of all the columns, the number of rows in that column and a brief description of the values stored in those columns\n",
    "data.describe()"
   ]
  },
  {
   "cell_type": "markdown",
   "metadata": {
    "collapsed": false
   },
   "source": [
    "Next we will check out iterating through a dataframe."
   ]
  },
  {
   "cell_type": "code",
   "execution_count": 0,
   "metadata": {
    "collapsed": false
   },
   "outputs": [
   ],
   "source": [
    "# Going through a row 1 value at a time\n",
    "for i in data['A']:\n",
    "    print(i)"
   ]
  },
  {
   "cell_type": "code",
   "execution_count": 0,
   "metadata": {
    "collapsed": false
   },
   "outputs": [
   ],
   "source": [
    "# going through the entire dataframe 1 value at a time\n",
    "for col_name in data.columns:\n",
    "    for value in data[col_name]:\n",
    "        print(value)"
   ]
  },
  {
   "cell_type": "markdown",
   "metadata": {
    "collapsed": false
   },
   "source": [
    "Now lets create some visuals for our data! First we will create a dataframe of random numbers using numpy."
   ]
  },
  {
   "cell_type": "code",
   "execution_count": 19,
   "metadata": {
    "collapsed": false
   },
   "outputs": [
    {
     "data": {
      "text/html": [
       "<div>\n",
       "<style scoped>\n",
       "    .dataframe tbody tr th:only-of-type {\n",
       "        vertical-align: middle;\n",
       "    }\n",
       "\n",
       "    .dataframe tbody tr th {\n",
       "        vertical-align: top;\n",
       "    }\n",
       "\n",
       "    .dataframe thead th {\n",
       "        text-align: right;\n",
       "    }\n",
       "</style>\n",
       "<table border=\"1\" class=\"dataframe\">\n",
       "  <thead>\n",
       "    <tr style=\"text-align: right;\">\n",
       "      <th></th>\n",
       "      <th>A</th>\n",
       "      <th>B</th>\n",
       "      <th>C</th>\n",
       "    </tr>\n",
       "  </thead>\n",
       "  <tbody>\n",
       "    <tr>\n",
       "      <th>0</th>\n",
       "      <td>0.429232</td>\n",
       "      <td>0.223598</td>\n",
       "      <td>0.346570</td>\n",
       "    </tr>\n",
       "    <tr>\n",
       "      <th>1</th>\n",
       "      <td>0.522935</td>\n",
       "      <td>0.861748</td>\n",
       "      <td>0.288415</td>\n",
       "    </tr>\n",
       "    <tr>\n",
       "      <th>2</th>\n",
       "      <td>0.951323</td>\n",
       "      <td>0.048010</td>\n",
       "      <td>0.589325</td>\n",
       "    </tr>\n",
       "    <tr>\n",
       "      <th>3</th>\n",
       "      <td>0.203129</td>\n",
       "      <td>0.517945</td>\n",
       "      <td>0.481744</td>\n",
       "    </tr>\n",
       "    <tr>\n",
       "      <th>4</th>\n",
       "      <td>0.206739</td>\n",
       "      <td>0.120987</td>\n",
       "      <td>0.237032</td>\n",
       "    </tr>\n",
       "  </tbody>\n",
       "</table>\n",
       "</div>"
      ],
      "text/plain": [
       "          A         B         C\n",
       "0  0.429232  0.223598  0.346570\n",
       "1  0.522935  0.861748  0.288415\n",
       "2  0.951323  0.048010  0.589325\n",
       "3  0.203129  0.517945  0.481744\n",
       "4  0.206739  0.120987  0.237032"
      ]
     },
     "execution_count": 19,
     "metadata": {
     },
     "output_type": "execute_result"
    }
   ],
   "source": [
    "import numpy as np\n",
    "rand_data = pd.DataFrame({\"A\":np.random.rand(10), \"B\":np.random.rand(10), \"C\":np.random.rand(10)})\n",
    "rand_data.head()"
   ]
  },
  {
   "cell_type": "markdown",
   "metadata": {
    "collapsed": false
   },
   "source": [
    "Now for the visuals, first we will check out a general correlation chart"
   ]
  },
  {
   "cell_type": "code",
   "execution_count": 20,
   "metadata": {
    "collapsed": false
   },
   "outputs": [
    {
     "data": {
      "image/png": "[encoded data removed]",
      "text/plain": [
       "<Figure size 576x360 with 2 Axes>"
      ]
     },
     "execution_count": 20,
     "metadata": {
      "needs_background": "light"
     },
     "output_type": "execute_result"
    }
   ],
   "source": [
    "import seaborn as sns\n",
    "import matplotlib.pyplot as plt\n",
    "plt.figure(figsize=(8,5))\n",
    "sns.heatmap(data=rand_data.iloc[:,:].corr(),annot=True,fmt='.2f',cmap='coolwarm')\n",
    "plt.show()"
   ]
  },
  {
   "cell_type": "markdown",
   "metadata": {
    "collapsed": false
   },
   "source": [
    "Now, we will show off each of these correlations 1 at a time with a graph"
   ]
  },
  {
   "cell_type": "code",
   "execution_count": 21,
   "metadata": {
    "collapsed": false
   },
   "outputs": [
    {
     "data": {
      "image/png": "[encoded data removed]",
      "text/plain": [
       "<Figure size 1152x288 with 3 Axes>"
      ]
     },
     "execution_count": 21,
     "metadata": {
      "needs_background": "light"
     },
     "output_type": "execute_result"
    }
   ],
   "source": [
    "fig, axes = plt.subplots(nrows=1, ncols=3, figsize=(16,4))\n",
    "plt.subplots_adjust(hspace=0.4)\n",
    "\n",
    "corr_chart = pd.Series(dtype='float64')\n",
    "for col in rand_data.columns.values:\n",
    "    corr_chart[col] = rand_data['A'].corr(rand_data[col])\n",
    "abs_corr_chart = corr_chart.abs().sort_values(ascending=False)\n",
    "corr_chart = corr_chart.loc[abs_corr_chart.index]\n",
    "\n",
    "\n",
    "for i in range(3):\n",
    "    sns.regplot(x=corr_chart.index.values[i], y='A', data=rand_data,\n",
    "            ax=axes[i], fit_reg=False, marker='.')\n",
    "    title = 'correlation='+str(corr_chart[i])\n",
    "    axes[i].set_title(title)\n",
    "# axes[1,2].set_xlim(0,102)\n",
    "plt.show()"
   ]
  },
  {
   "cell_type": "markdown",
   "metadata": {
    "collapsed": false
   },
   "source": [
    "If you are coding this on your own, you may need to install packages like numpy or pandas, which we will get into later, but there are many built in packages as well"
   ]
  },
  {
   "cell_type": "markdown",
   "metadata": {
    "collapsed": false
   },
   "source": [
    "time allows us to access the current time"
   ]
  },
  {
   "cell_type": "code",
   "execution_count": 22,
   "metadata": {
    "collapsed": false
   },
   "outputs": [
    {
     "data": {
      "text/plain": [
       "1654633079.284727"
      ]
     },
     "execution_count": 22,
     "metadata": {
     },
     "output_type": "execute_result"
    }
   ],
   "source": [
    "import time\n",
    "time.time() # you will see this go up as you rerun it"
   ]
  },
  {
   "cell_type": "markdown",
   "metadata": {
    "collapsed": false
   },
   "source": [
    "random allows us to get random numbers"
   ]
  },
  {
   "cell_type": "code",
   "execution_count": 23,
   "metadata": {
    "collapsed": false
   },
   "outputs": [
    {
     "data": {
      "text/plain": [
       "3"
      ]
     },
     "execution_count": 23,
     "metadata": {
     },
     "output_type": "execute_result"
    }
   ],
   "source": [
    "import random\n",
    "random.randint(0,5) # this gives one of the numbers between and including 0 and 5"
   ]
  },
  {
   "cell_type": "markdown",
   "metadata": {
    "collapsed": false
   },
   "source": [
    "Find a built in module and use it here: (hint: try math)"
   ]
  },
  {
   "cell_type": "code",
   "execution_count": 0,
   "metadata": {
    "collapsed": false
   },
   "outputs": [
   ],
   "source": [
    "import math\n",
    "\n",
    "math"
   ]
  },
  {
   "cell_type": "markdown",
   "metadata": {
    "collapsed": false
   },
   "source": [
    "You may notice that we have to call the function we need by placing it after the module connected by a dot\n",
    "\n",
    "But many times, that is inconvenient and we can get around it like this"
   ]
  },
  {
   "cell_type": "code",
   "execution_count": 0,
   "metadata": {
    "collapsed": false
   },
   "outputs": [
   ],
   "source": [
    "from random import randint\n",
    "randint(0,5) # now we can exclude the random. prefix"
   ]
  },
  {
   "cell_type": "markdown",
   "metadata": {
    "collapsed": false
   },
   "source": [
    "finally, as we did with the numpy module, we can rename the function"
   ]
  },
  {
   "cell_type": "code",
   "execution_count": 0,
   "metadata": {
    "collapsed": false
   },
   "outputs": [
   ],
   "source": [
    "from time import time as t\n",
    "t()"
   ]
  }
 ],
 "metadata": {
  "interpreter": {
   "hash": "08210294964727e4010dccc398c44f22b92a2e77e2aceea574ad21eae77cd8e8"
  },
  "kernelspec": {
   "display_name": "Python (nlp_env)",
   "language": "python",
   "metadata": {
    "debugger": true
   },
   "name": "nlp_env",
   "resource_dir": "/projects/0ddeade5-3577-4fe8-8cd6-8a0cb653428e/.local/share/jupyter/kernels/nlp_env"
  },
  "language_info": {
   "codemirror_mode": {
    "name": "ipython",
    "version": 3
   },
   "file_extension": ".py",
   "mimetype": "text/x-python",
   "name": "python",
   "nbconvert_exporter": "python",
   "pygments_lexer": "ipython3",
   "version": "3.8.13"
  },
  "orig_nbformat": 4
 },
 "nbformat": 4,
 "nbformat_minor": 4
}