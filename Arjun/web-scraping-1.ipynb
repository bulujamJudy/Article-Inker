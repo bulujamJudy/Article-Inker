{
 "cells": [
  {
   "cell_type": "code",
   "execution_count": 1,
   "metadata": {
    "collapsed": false
   },
   "outputs": [
   ],
   "source": [
    "# !pip3 install praw"
   ]
  },
  {
   "cell_type": "markdown",
   "metadata": {
    "collapsed": false
   },
   "source": [
    "Go to the following link here _:_\n",
    "\n",
    "https://www.reddit.com/prefs/apps/\n",
    "\n"
   ]
  },
  {
   "cell_type": "code",
   "execution_count": 2,
   "metadata": {
    "collapsed": false
   },
   "outputs": [
   ],
   "source": [
    "import praw,requests,math, itertools,collections, wordcloud\n",
    "import pandas as pd\n",
    "import numpy as np"
   ]
  },
  {
   "cell_type": "code",
   "execution_count": 3,
   "metadata": {
    "collapsed": false
   },
   "outputs": [
   ],
   "source": [
    "reddit = praw.Reddit(\n",
    "    client_id='6wNbkNOXoJmAm0ztmc2vPg', \n",
    "    client_secret='r4m9LUNhEKMEhys8shlDPsi8zdL3Zw',\n",
    "    user_agent='dadjokes',\n",
    "    username='Tight-Swordfish-5666',\n",
    "    password='--------')"
   ]
  },
  {
   "cell_type": "code",
   "execution_count": 4,
   "metadata": {
    "collapsed": false
   },
   "outputs": [
    {
     "name": "stdout",
     "output_type": "stream",
     "text": [
      "riya_a_a\n"
     ]
    }
   ],
   "source": [
    "print(reddit.user.me())"
   ]
  },
  {
   "cell_type": "markdown",
   "metadata": {
    "collapsed": false
   },
   "source": [
    "#### Finding results from a subreddit\n",
    "\n",
    "We use the query reddit.subreddit\\('&lt;\\-\\- Subreddit Name \\-\\-&gt;'\\).hot\\(limit = 5\\).\n",
    "\n",
    "hot indicates, in terms of reddit, the trending posts\n",
    "\n",
    "Other alternatives for hot are new \\( latest posts \\) and rising \\( posts which getting more activity \\)\\(limit = 5\\) indicates we are selecting 5 postsIn\n",
    "\n"
   ]
  },
  {
   "cell_type": "code",
   "execution_count": 5,
   "metadata": {
    "collapsed": false
   },
   "outputs": [
    {
     "name": "stdout",
     "output_type": "stream",
     "text": [
      "What do you call 50 penguins in the Arctic?\n",
      "\n"
     ]
    }
   ],
   "source": [
    "rising_posts = reddit.subreddit('dadjokes').rising(limit=1)\n",
    "for post in rising_posts:\n",
    "    print(post.title,end=\"\\n\\n\")"
   ]
  },
  {
   "cell_type": "code",
   "execution_count": 6,
   "metadata": {
    "collapsed": false
   },
   "outputs": [
    {
     "name": "stdout",
     "output_type": "stream",
     "text": [
      "What do you call someone that used to be transgender?\n",
      "\n"
     ]
    }
   ],
   "source": [
    "hot_posts = reddit.subreddit('dadjokes').hot(limit=1)\n",
    "for post in hot_posts:\n",
    "    print(post.title,end=\"\\n\\n\")"
   ]
  },
  {
   "cell_type": "markdown",
   "metadata": {
    "collapsed": false
   },
   "source": [
    "#### Choosing what information we want\n",
    "\n",
    "title \\-&gt; We get the title of reddit post\n",
    "\n",
    "selftext \\-&gt; We get the content of reddit post\n",
    "\n",
    "author \\-&gt; We get the author of reddit post\n",
    "\n",
    "ups \\-&gt; We get the upvotes for the reddit post\n",
    "\n",
    "downs \\-&gt; We get the downvotes for the reddit post\n",
    "\n",
    "num\\_comments \\-&gt; We get the number of comments on reddit post\n",
    "\n",
    "link\\_flair\\_text \\-&gt; We get the tags if any on the post\n",
    "\n",
    "url \\-&gt; We get the url if any of the reddit post\n",
    "\n",
    "We will store that data in pandas dataframe\n"
   ]
  },
  {
   "cell_type": "code",
   "execution_count": 7,
   "metadata": {
    "collapsed": false
   },
   "outputs": [
   ],
   "source": [
    "hot_posts = reddit.subreddit('dadjokes').hot(limit=2000)\n",
    "\n",
    "posts = []\n",
    "\n",
    "for post in hot_posts:\n",
    "    posts.append([post.title, post.score, post.id, post.selftext, post.author, post.url, post.num_comments, \n",
    "                  post.ups, post.downs, post.link_flair_text])\n",
    "\n",
    "posts_df = pd.DataFrame(posts,columns=['title', 'score', 'id', 'selftext', 'author', 'url', 'num_comments',\n",
    "                                       'upvotes','downvotes','category'])\n",
    "\n",
    "#Separating the news provider from the link\n",
    "posts_df['dad_jokes'] = posts_df['url'].str.split('/').str[2]"
   ]
  },
  {
   "cell_type": "code",
   "execution_count": 8,
   "metadata": {
    "collapsed": false
   },
   "outputs": [
    {
     "data": {
      "text/html": [
       "<div>\n",
       "<style scoped>\n",
       "    .dataframe tbody tr th:only-of-type {\n",
       "        vertical-align: middle;\n",
       "    }\n",
       "\n",
       "    .dataframe tbody tr th {\n",
       "        vertical-align: top;\n",
       "    }\n",
       "\n",
       "    .dataframe thead th {\n",
       "        text-align: right;\n",
       "    }\n",
       "</style>\n",
       "<table border=\"1\" class=\"dataframe\">\n",
       "  <thead>\n",
       "    <tr style=\"text-align: right;\">\n",
       "      <th></th>\n",
       "      <th>title</th>\n",
       "      <th>score</th>\n",
       "      <th>id</th>\n",
       "      <th>selftext</th>\n",
       "      <th>author</th>\n",
       "      <th>url</th>\n",
       "      <th>num_comments</th>\n",
       "      <th>upvotes</th>\n",
       "      <th>downvotes</th>\n",
       "      <th>category</th>\n",
       "      <th>dad_jokes</th>\n",
       "    </tr>\n",
       "  </thead>\n",
       "  <tbody>\n",
       "    <tr>\n",
       "      <th>0</th>\n",
       "      <td>What do you call someone that used to be trans...</td>\n",
       "      <td>2707</td>\n",
       "      <td>vakdcq</td>\n",
       "      <td>Trans former</td>\n",
       "      <td>Mimicrystal12</td>\n",
       "      <td>https://www.reddit.com/r/dadjokes/comments/vak...</td>\n",
       "      <td>153</td>\n",
       "      <td>2707</td>\n",
       "      <td>0</td>\n",
       "      <td>None</td>\n",
       "      <td>www.reddit.com</td>\n",
       "    </tr>\n",
       "    <tr>\n",
       "      <th>1</th>\n",
       "      <td>Voldemort is just like a teenage girl.</td>\n",
       "      <td>1415</td>\n",
       "      <td>valja0</td>\n",
       "      <td>He has a tiara, a mood ring, a special locket ...</td>\n",
       "      <td>Your_Enabler</td>\n",
       "      <td>https://www.reddit.com/r/dadjokes/comments/val...</td>\n",
       "      <td>39</td>\n",
       "      <td>1415</td>\n",
       "      <td>0</td>\n",
       "      <td>None</td>\n",
       "      <td>www.reddit.com</td>\n",
       "    </tr>\n",
       "    <tr>\n",
       "      <th>2</th>\n",
       "      <td>Where to you go to weigh a pie?</td>\n",
       "      <td>4017</td>\n",
       "      <td>vabd26</td>\n",
       "      <td>Somewhere over the rainbow.</td>\n",
       "      <td>Antifoul_Al</td>\n",
       "      <td>https://www.reddit.com/r/dadjokes/comments/vab...</td>\n",
       "      <td>175</td>\n",
       "      <td>4017</td>\n",
       "      <td>0</td>\n",
       "      <td>None</td>\n",
       "      <td>www.reddit.com</td>\n",
       "    </tr>\n",
       "    <tr>\n",
       "      <th>3</th>\n",
       "      <td>I've reluctantly retired after 26 years as a l...</td>\n",
       "      <td>334</td>\n",
       "      <td>valymt</td>\n",
       "      <td>All that time gone by, and nothing to chauffeu...</td>\n",
       "      <td>HugoZHackenbush2</td>\n",
       "      <td>https://www.reddit.com/r/dadjokes/comments/val...</td>\n",
       "      <td>25</td>\n",
       "      <td>334</td>\n",
       "      <td>0</td>\n",
       "      <td>None</td>\n",
       "      <td>www.reddit.com</td>\n",
       "    </tr>\n",
       "    <tr>\n",
       "      <th>4</th>\n",
       "      <td>I tell dad jokes</td>\n",
       "      <td>133</td>\n",
       "      <td>vaqagh</td>\n",
       "      <td>Sometimes he laughs</td>\n",
       "      <td>Cautious_Zucchini_66</td>\n",
       "      <td>https://www.reddit.com/r/dadjokes/comments/vaq...</td>\n",
       "      <td>15</td>\n",
       "      <td>133</td>\n",
       "      <td>0</td>\n",
       "      <td>None</td>\n",
       "      <td>www.reddit.com</td>\n",
       "    </tr>\n",
       "  </tbody>\n",
       "</table>\n",
       "</div>"
      ],
      "text/plain": [
       "                                               title  score      id  \\\n",
       "0  What do you call someone that used to be trans...   2707  vakdcq   \n",
       "1             Voldemort is just like a teenage girl.   1415  valja0   \n",
       "2                    Where to you go to weigh a pie?   4017  vabd26   \n",
       "3  I've reluctantly retired after 26 years as a l...    334  valymt   \n",
       "4                                   I tell dad jokes    133  vaqagh   \n",
       "\n",
       "                                            selftext                author  \\\n",
       "0                                       Trans former         Mimicrystal12   \n",
       "1  He has a tiara, a mood ring, a special locket ...          Your_Enabler   \n",
       "2                        Somewhere over the rainbow.           Antifoul_Al   \n",
       "3  All that time gone by, and nothing to chauffeu...      HugoZHackenbush2   \n",
       "4                                Sometimes he laughs  Cautious_Zucchini_66   \n",
       "\n",
       "                                                 url  num_comments  upvotes  \\\n",
       "0  https://www.reddit.com/r/dadjokes/comments/vak...           153     2707   \n",
       "1  https://www.reddit.com/r/dadjokes/comments/val...            39     1415   \n",
       "2  https://www.reddit.com/r/dadjokes/comments/vab...           175     4017   \n",
       "3  https://www.reddit.com/r/dadjokes/comments/val...            25      334   \n",
       "4  https://www.reddit.com/r/dadjokes/comments/vaq...            15      133   \n",
       "\n",
       "   downvotes category       dad_jokes  \n",
       "0          0     None  www.reddit.com  \n",
       "1          0     None  www.reddit.com  \n",
       "2          0     None  www.reddit.com  \n",
       "3          0     None  www.reddit.com  \n",
       "4          0     None  www.reddit.com  "
      ]
     },
     "execution_count": 8,
     "metadata": {
     },
     "output_type": "execute_result"
    }
   ],
   "source": [
    "posts_df.head()"
   ]
  },
  {
   "cell_type": "code",
   "execution_count": 9,
   "metadata": {
    "collapsed": false
   },
   "outputs": [
    {
     "data": {
      "text/html": [
       "<div>\n",
       "<style scoped>\n",
       "    .dataframe tbody tr th:only-of-type {\n",
       "        vertical-align: middle;\n",
       "    }\n",
       "\n",
       "    .dataframe tbody tr th {\n",
       "        vertical-align: top;\n",
       "    }\n",
       "\n",
       "    .dataframe thead th {\n",
       "        text-align: right;\n",
       "    }\n",
       "</style>\n",
       "<table border=\"1\" class=\"dataframe\">\n",
       "  <thead>\n",
       "    <tr style=\"text-align: right;\">\n",
       "      <th></th>\n",
       "      <th>title</th>\n",
       "      <th>score</th>\n",
       "      <th>id</th>\n",
       "      <th>selftext</th>\n",
       "      <th>author</th>\n",
       "      <th>url</th>\n",
       "      <th>num_comments</th>\n",
       "      <th>upvotes</th>\n",
       "      <th>downvotes</th>\n",
       "      <th>category</th>\n",
       "      <th>dad_jokes</th>\n",
       "    </tr>\n",
       "  </thead>\n",
       "  <tbody>\n",
       "    <tr>\n",
       "      <th>758</th>\n",
       "      <td>Mate called the Animal Welfare today and said,...</td>\n",
       "      <td>8559</td>\n",
       "      <td>v61uqw</td>\n",
       "      <td>&amp;#x200B;\\n\\n\"That's terrible,\" she replied, \"A...</td>\n",
       "      <td>StephenGTS125</td>\n",
       "      <td>https://www.reddit.com/r/dadjokes/comments/v61...</td>\n",
       "      <td>100</td>\n",
       "      <td>8559</td>\n",
       "      <td>0</td>\n",
       "      <td>None</td>\n",
       "      <td>www.reddit.com</td>\n",
       "    </tr>\n",
       "    <tr>\n",
       "      <th>205</th>\n",
       "      <td>This sub is really going downhill</td>\n",
       "      <td>8350</td>\n",
       "      <td>v8to3w</td>\n",
       "      <td>https://i.imgur.com/LTic1Aq.jpg</td>\n",
       "      <td>chad-beer-316</td>\n",
       "      <td>https://www.reddit.com/r/dadjokes/comments/v8t...</td>\n",
       "      <td>145</td>\n",
       "      <td>8350</td>\n",
       "      <td>0</td>\n",
       "      <td>None</td>\n",
       "      <td>www.reddit.com</td>\n",
       "    </tr>\n",
       "    <tr>\n",
       "      <th>340</th>\n",
       "      <td>A horse walks into a bar and orders a pint of ...</td>\n",
       "      <td>8181</td>\n",
       "      <td>v85t7c</td>\n",
       "      <td>The bartender says, “You come in here pretty o...</td>\n",
       "      <td>docmoonlight</td>\n",
       "      <td>https://www.reddit.com/r/dadjokes/comments/v85...</td>\n",
       "      <td>255</td>\n",
       "      <td>8181</td>\n",
       "      <td>0</td>\n",
       "      <td>None</td>\n",
       "      <td>www.reddit.com</td>\n",
       "    </tr>\n",
       "    <tr>\n",
       "      <th>593</th>\n",
       "      <td>I dumped my last girlfriend because she was a ...</td>\n",
       "      <td>7284</td>\n",
       "      <td>v6u0oj</td>\n",
       "      <td>I should've known sooner. There were red flags...</td>\n",
       "      <td>scott3845</td>\n",
       "      <td>https://www.reddit.com/r/dadjokes/comments/v6u...</td>\n",
       "      <td>185</td>\n",
       "      <td>7284</td>\n",
       "      <td>0</td>\n",
       "      <td>None</td>\n",
       "      <td>www.reddit.com</td>\n",
       "    </tr>\n",
       "    <tr>\n",
       "      <th>674</th>\n",
       "      <td>What’s the difference between a tuna fish, a p...</td>\n",
       "      <td>7166</td>\n",
       "      <td>v6jj7e</td>\n",
       "      <td>You can’t tuna fish, but you can tuna piano…</td>\n",
       "      <td>DarlingLee</td>\n",
       "      <td>https://www.reddit.com/r/dadjokes/comments/v6j...</td>\n",
       "      <td>312</td>\n",
       "      <td>7166</td>\n",
       "      <td>0</td>\n",
       "      <td>None</td>\n",
       "      <td>www.reddit.com</td>\n",
       "    </tr>\n",
       "  </tbody>\n",
       "</table>\n",
       "</div>"
      ],
      "text/plain": [
       "                                                 title  score      id  \\\n",
       "758  Mate called the Animal Welfare today and said,...   8559  v61uqw   \n",
       "205                  This sub is really going downhill   8350  v8to3w   \n",
       "340  A horse walks into a bar and orders a pint of ...   8181  v85t7c   \n",
       "593  I dumped my last girlfriend because she was a ...   7284  v6u0oj   \n",
       "674  What’s the difference between a tuna fish, a p...   7166  v6jj7e   \n",
       "\n",
       "                                              selftext         author  \\\n",
       "758  &#x200B;\\n\\n\"That's terrible,\" she replied, \"A...  StephenGTS125   \n",
       "205                    https://i.imgur.com/LTic1Aq.jpg  chad-beer-316   \n",
       "340  The bartender says, “You come in here pretty o...   docmoonlight   \n",
       "593  I should've known sooner. There were red flags...      scott3845   \n",
       "674       You can’t tuna fish, but you can tuna piano…     DarlingLee   \n",
       "\n",
       "                                                   url  num_comments  upvotes  \\\n",
       "758  https://www.reddit.com/r/dadjokes/comments/v61...           100     8559   \n",
       "205  https://www.reddit.com/r/dadjokes/comments/v8t...           145     8350   \n",
       "340  https://www.reddit.com/r/dadjokes/comments/v85...           255     8181   \n",
       "593  https://www.reddit.com/r/dadjokes/comments/v6u...           185     7284   \n",
       "674  https://www.reddit.com/r/dadjokes/comments/v6j...           312     7166   \n",
       "\n",
       "     downvotes category       dad_jokes  \n",
       "758          0     None  www.reddit.com  \n",
       "205          0     None  www.reddit.com  \n",
       "340          0     None  www.reddit.com  \n",
       "593          0     None  www.reddit.com  \n",
       "674          0     None  www.reddit.com  "
      ]
     },
     "execution_count": 9,
     "metadata": {
     },
     "output_type": "execute_result"
    }
   ],
   "source": [
    "posts_df.sort_values(by='score', ascending=False).head(5)"
   ]
  },
  {
   "cell_type": "code",
   "execution_count": 10,
   "metadata": {
    "collapsed": false
   },
   "outputs": [
   ],
   "source": [
    "posts_df['dadjokes'] = posts_df['title'] + posts_df['selftext']\n",
    "posts_df['dadjokes'].to_csv('dadjokes.csv', index=False)"
   ]
  },
  {
   "cell_type": "code",
   "execution_count": 0,
   "metadata": {
    "collapsed": false
   },
   "outputs": [
   ],
   "source": [
   ]
  }
 ],
 "metadata": {
  "kernelspec": {
   "display_name": "Python (nlp_env)",
   "language": "python",
   "metadata": {
    "debugger": true
   },
   "name": "nlp_env",
   "resource_dir": "/projects/0ddeade5-3577-4fe8-8cd6-8a0cb653428e/.local/share/jupyter/kernels/nlp_env"
  },
  "language_info": {
   "codemirror_mode": {
    "name": "ipython",
    "version": 3
   },
   "file_extension": ".py",
   "mimetype": "text/x-python",
   "name": "python",
   "nbconvert_exporter": "python",
   "pygments_lexer": "ipython3",
   "version": "3.8.13"
  }
 },
 "nbformat": 4,
 "nbformat_minor": 4
}