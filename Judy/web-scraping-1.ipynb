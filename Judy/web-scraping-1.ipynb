{
 "cells": [
  {
   "cell_type": "code",
   "execution_count": 3,
   "metadata": {
    "collapsed": false
   },
   "outputs": [
    {
     "name": "stdout",
     "output_type": "stream",
     "text": [
      "Requirement already satisfied: praw in /projects/0ddeade5-3577-4fe8-8cd6-8a0cb653428e/.local/lib/python3.8/site-packages (7.6.0)\r\n"
     ]
    },
    {
     "name": "stdout",
     "output_type": "stream",
     "text": [
      "Requirement already satisfied: update-checker>=0.18 in /projects/0ddeade5-3577-4fe8-8cd6-8a0cb653428e/.local/lib/python3.8/site-packages (from praw) (0.18.0)\r\n",
      "Requirement already satisfied: websocket-client>=0.54.0 in /projects/0ddeade5-3577-4fe8-8cd6-8a0cb653428e/.local/lib/python3.8/site-packages (from praw) (1.3.2)\r\n",
      "Requirement already satisfied: prawcore<3,>=2.1 in /projects/0ddeade5-3577-4fe8-8cd6-8a0cb653428e/.local/lib/python3.8/site-packages (from praw) (2.3.0)\r\n"
     ]
    },
    {
     "name": "stdout",
     "output_type": "stream",
     "text": [
      "Requirement already satisfied: requests>=2.3.0 in /usr/lib/python3/dist-packages (from update-checker>=0.18->praw) (2.22.0)\r\n"
     ]
    }
   ],
   "source": [
    "!pip3 install praw"
   ]
  },
  {
   "cell_type": "markdown",
   "metadata": {
    "collapsed": false
   },
   "source": [
    "Go to the following link here _:_\n",
    "\n",
    "https://www.reddit.com/prefs/apps/\n",
    "\n"
   ]
  },
  {
   "cell_type": "code",
   "execution_count": 4,
   "metadata": {
    "collapsed": false
   },
   "outputs": [
   ],
   "source": [
    "import praw,requests,math, itertools,collections, wordcloud\n",
    "import pandas as pd\n",
    "import numpy as np"
   ]
  },
  {
   "cell_type": "code",
   "execution_count": 14,
   "metadata": {
    "collapsed": false
   },
   "outputs": [
   ],
   "source": [
    "reddit = praw.Reddit(\n",
    "    client_id='iscuMjQQsSW747lJYOg5lQ', \n",
    "    client_secret='o5QSr0qteUVhM-DyK7nEsCheUDYlrA',\n",
    "    user_agent='dadjokes',\n",
    "    username='bulujamjudy',\n",
    "    password='Judy2005!')"
   ]
  },
  {
   "cell_type": "code",
   "execution_count": 15,
   "metadata": {
    "collapsed": false
   },
   "outputs": [
    {
     "name": "stdout",
     "output_type": "stream",
     "text": [
      "bulujamjudy\n"
     ]
    }
   ],
   "source": [
    "print(reddit.user.me())"
   ]
  },
  {
   "cell_type": "markdown",
   "metadata": {
    "collapsed": false
   },
   "source": [
    "#### Finding results from a subreddit\n",
    "\n",
    "We use the query reddit.subreddit\\('&lt;\\-\\- Subreddit Name \\-\\-&gt;'\\).hot\\(limit = 5\\).\n",
    "\n",
    "hot indicates, in terms of reddit, the trending posts\n",
    "\n",
    "Other alternatives for hot are new \\( latest posts \\) and rising \\( posts which getting more activity \\)\\(limit = 5\\) indicates we are selecting 5 postsIn\n"
   ]
  },
  {
   "cell_type": "code",
   "execution_count": 24,
   "metadata": {
    "collapsed": false
   },
   "outputs": [
    {
     "name": "stdout",
     "output_type": "stream",
     "text": [
      "Hold your loved ones close\n",
      "\n"
     ]
    }
   ],
   "source": [
    "rising_posts = reddit.subreddit('dadjokes').rising(limit=1)\n",
    "for post in rising_posts:\n",
    "    print(post.title,end=\"\\n\\n\")"
   ]
  },
  {
   "cell_type": "code",
   "execution_count": 17,
   "metadata": {
    "collapsed": false
   },
   "outputs": [
    {
     "name": "stdout",
     "output_type": "stream",
     "text": [
      "My wife left me a note on the fridge saying “it’s not working, I’m at my parents place”\n",
      "\n"
     ]
    }
   ],
   "source": [
    "hot_posts = reddit.subreddit('dadjokes').hot(limit=1)\n",
    "for post in hot_posts:\n",
    "    print(post.title,end=\"\\n\\n\")"
   ]
  },
  {
   "cell_type": "markdown",
   "metadata": {
    "collapsed": false
   },
   "source": [
    "#### Choosing what information we want\n",
    "\n",
    "title \\-&gt; We get the title of reddit post\n",
    "\n",
    "selftext \\-&gt; We get the content of reddit post\n",
    "\n",
    "author \\-&gt; We get the author of reddit post\n",
    "\n",
    "ups \\-&gt; We get the upvotes for the reddit post\n",
    "\n",
    "downs \\-&gt; We get the downvotes for the reddit post\n",
    "\n",
    "num\\_comments \\-&gt; We get the number of comments on reddit post\n",
    "\n",
    "link\\_flair\\_text \\-&gt; We get the tags if any on the post\n",
    "\n",
    "url \\-&gt; We get the url if any of the reddit post\n",
    "\n",
    "We will store that data in pandas dataframe\n"
   ]
  },
  {
   "cell_type": "code",
   "execution_count": 19,
   "metadata": {
    "collapsed": false
   },
   "outputs": [
   ],
   "source": [
    "hot_posts = reddit.subreddit('dadjokes').hot(limit=2000)\n",
    "\n",
    "posts = []\n",
    "\n",
    "for post in hot_posts:\n",
    "    posts.append([post.title, post.score, post.id, post.selftext, post.author, post.url, post.num_comments, \n",
    "                  post.ups, post.downs, post.link_flair_text])\n",
    "\n",
    "posts_df = pd.DataFrame(posts,columns=['title', 'score', 'id', 'selftext', 'author', 'url', 'num_comments',\n",
    "                                       'upvotes','downvotes','category'])\n",
    "\n",
    "#Separating the news provider from the link\n",
    "posts_df['dad_jokes'] = posts_df['url'].str.split('/').str[2]"
   ]
  },
  {
   "cell_type": "code",
   "execution_count": 20,
   "metadata": {
    "collapsed": false,
    "scrolled": true
   },
   "outputs": [
    {
     "data": {
      "text/html": [
       "<div>\n",
       "<style scoped>\n",
       "    .dataframe tbody tr th:only-of-type {\n",
       "        vertical-align: middle;\n",
       "    }\n",
       "\n",
       "    .dataframe tbody tr th {\n",
       "        vertical-align: top;\n",
       "    }\n",
       "\n",
       "    .dataframe thead th {\n",
       "        text-align: right;\n",
       "    }\n",
       "</style>\n",
       "<table border=\"1\" class=\"dataframe\">\n",
       "  <thead>\n",
       "    <tr style=\"text-align: right;\">\n",
       "      <th></th>\n",
       "      <th>title</th>\n",
       "      <th>score</th>\n",
       "      <th>id</th>\n",
       "      <th>selftext</th>\n",
       "      <th>author</th>\n",
       "      <th>url</th>\n",
       "      <th>num_comments</th>\n",
       "      <th>upvotes</th>\n",
       "      <th>downvotes</th>\n",
       "      <th>category</th>\n",
       "      <th>dad_jokes</th>\n",
       "    </tr>\n",
       "  </thead>\n",
       "  <tbody>\n",
       "    <tr>\n",
       "      <th>0</th>\n",
       "      <td>My wife left me a note on the fridge saying “i...</td>\n",
       "      <td>2627</td>\n",
       "      <td>vb97xv</td>\n",
       "      <td>After opening the fridge, I’ve realized it was...</td>\n",
       "      <td>kdesign</td>\n",
       "      <td>https://www.reddit.com/r/dadjokes/comments/vb9...</td>\n",
       "      <td>90</td>\n",
       "      <td>2627</td>\n",
       "      <td>0</td>\n",
       "      <td>None</td>\n",
       "      <td>www.reddit.com</td>\n",
       "    </tr>\n",
       "    <tr>\n",
       "      <th>1</th>\n",
       "      <td>My girlfriend is leaving me saying I am not Am...</td>\n",
       "      <td>10884</td>\n",
       "      <td>vb01hy</td>\n",
       "      <td>Saw it coming a kilometer away.</td>\n",
       "      <td>clitsdontexist</td>\n",
       "      <td>https://www.reddit.com/r/dadjokes/comments/vb0...</td>\n",
       "      <td>229</td>\n",
       "      <td>10884</td>\n",
       "      <td>0</td>\n",
       "      <td>None</td>\n",
       "      <td>www.reddit.com</td>\n",
       "    </tr>\n",
       "    <tr>\n",
       "      <th>2</th>\n",
       "      <td>an unexpected emotional journey</td>\n",
       "      <td>470</td>\n",
       "      <td>vbcl0j</td>\n",
       "      <td>My cousin (MtF) has just come out to the famil...</td>\n",
       "      <td>dopeaminenotanime</td>\n",
       "      <td>https://www.reddit.com/r/dadjokes/comments/vbc...</td>\n",
       "      <td>20</td>\n",
       "      <td>470</td>\n",
       "      <td>0</td>\n",
       "      <td>None</td>\n",
       "      <td>www.reddit.com</td>\n",
       "    </tr>\n",
       "    <tr>\n",
       "      <th>3</th>\n",
       "      <td>My wife claims that men in camouflage look rea...</td>\n",
       "      <td>602</td>\n",
       "      <td>vbafz5</td>\n",
       "      <td>I just….don’t see it.</td>\n",
       "      <td>porichoygupto</td>\n",
       "      <td>https://www.reddit.com/r/dadjokes/comments/vba...</td>\n",
       "      <td>11</td>\n",
       "      <td>602</td>\n",
       "      <td>0</td>\n",
       "      <td>None</td>\n",
       "      <td>www.reddit.com</td>\n",
       "    </tr>\n",
       "    <tr>\n",
       "      <th>4</th>\n",
       "      <td>How do you please a woman in bed?</td>\n",
       "      <td>149</td>\n",
       "      <td>vbbvis</td>\n",
       "      <td>Let her sleep.</td>\n",
       "      <td>VERBERD</td>\n",
       "      <td>https://www.reddit.com/r/dadjokes/comments/vbb...</td>\n",
       "      <td>13</td>\n",
       "      <td>149</td>\n",
       "      <td>0</td>\n",
       "      <td>None</td>\n",
       "      <td>www.reddit.com</td>\n",
       "    </tr>\n",
       "  </tbody>\n",
       "</table>\n",
       "</div>"
      ],
      "text/plain": [
       "                                               title  score      id  \\\n",
       "0  My wife left me a note on the fridge saying “i...   2627  vb97xv   \n",
       "1  My girlfriend is leaving me saying I am not Am...  10884  vb01hy   \n",
       "2                    an unexpected emotional journey    470  vbcl0j   \n",
       "3  My wife claims that men in camouflage look rea...    602  vbafz5   \n",
       "4                  How do you please a woman in bed?    149  vbbvis   \n",
       "\n",
       "                                            selftext             author  \\\n",
       "0  After opening the fridge, I’ve realized it was...            kdesign   \n",
       "1                    Saw it coming a kilometer away.     clitsdontexist   \n",
       "2  My cousin (MtF) has just come out to the famil...  dopeaminenotanime   \n",
       "3                              I just….don’t see it.      porichoygupto   \n",
       "4                                     Let her sleep.            VERBERD   \n",
       "\n",
       "                                                 url  num_comments  upvotes  \\\n",
       "0  https://www.reddit.com/r/dadjokes/comments/vb9...            90     2627   \n",
       "1  https://www.reddit.com/r/dadjokes/comments/vb0...           229    10884   \n",
       "2  https://www.reddit.com/r/dadjokes/comments/vbc...            20      470   \n",
       "3  https://www.reddit.com/r/dadjokes/comments/vba...            11      602   \n",
       "4  https://www.reddit.com/r/dadjokes/comments/vbb...            13      149   \n",
       "\n",
       "   downvotes category       dad_jokes  \n",
       "0          0     None  www.reddit.com  \n",
       "1          0     None  www.reddit.com  \n",
       "2          0     None  www.reddit.com  \n",
       "3          0     None  www.reddit.com  \n",
       "4          0     None  www.reddit.com  "
      ]
     },
     "execution_count": 20,
     "metadata": {
     },
     "output_type": "execute_result"
    }
   ],
   "source": [
    "posts_df.head()"
   ]
  },
  {
   "cell_type": "code",
   "execution_count": 9,
   "metadata": {
    "collapsed": false,
    "scrolled": true
   },
   "outputs": [
    {
     "data": {
      "text/html": [
       "<div>\n",
       "<style scoped>\n",
       "    .dataframe tbody tr th:only-of-type {\n",
       "        vertical-align: middle;\n",
       "    }\n",
       "\n",
       "    .dataframe tbody tr th {\n",
       "        vertical-align: top;\n",
       "    }\n",
       "\n",
       "    .dataframe thead th {\n",
       "        text-align: right;\n",
       "    }\n",
       "</style>\n",
       "<table border=\"1\" class=\"dataframe\">\n",
       "  <thead>\n",
       "    <tr style=\"text-align: right;\">\n",
       "      <th></th>\n",
       "      <th>title</th>\n",
       "      <th>score</th>\n",
       "      <th>id</th>\n",
       "      <th>selftext</th>\n",
       "      <th>author</th>\n",
       "      <th>url</th>\n",
       "      <th>num_comments</th>\n",
       "      <th>upvotes</th>\n",
       "      <th>downvotes</th>\n",
       "      <th>category</th>\n",
       "      <th>dad_jokes</th>\n",
       "    </tr>\n",
       "  </thead>\n",
       "  <tbody>\n",
       "    <tr>\n",
       "      <th>758</th>\n",
       "      <td>Mate called the Animal Welfare today and said,...</td>\n",
       "      <td>8559</td>\n",
       "      <td>v61uqw</td>\n",
       "      <td>&amp;#x200B;\\n\\n\"That's terrible,\" she replied, \"A...</td>\n",
       "      <td>StephenGTS125</td>\n",
       "      <td>https://www.reddit.com/r/dadjokes/comments/v61...</td>\n",
       "      <td>100</td>\n",
       "      <td>8559</td>\n",
       "      <td>0</td>\n",
       "      <td>None</td>\n",
       "      <td>www.reddit.com</td>\n",
       "    </tr>\n",
       "    <tr>\n",
       "      <th>205</th>\n",
       "      <td>This sub is really going downhill</td>\n",
       "      <td>8350</td>\n",
       "      <td>v8to3w</td>\n",
       "      <td>https://i.imgur.com/LTic1Aq.jpg</td>\n",
       "      <td>chad-beer-316</td>\n",
       "      <td>https://www.reddit.com/r/dadjokes/comments/v8t...</td>\n",
       "      <td>145</td>\n",
       "      <td>8350</td>\n",
       "      <td>0</td>\n",
       "      <td>None</td>\n",
       "      <td>www.reddit.com</td>\n",
       "    </tr>\n",
       "    <tr>\n",
       "      <th>340</th>\n",
       "      <td>A horse walks into a bar and orders a pint of ...</td>\n",
       "      <td>8181</td>\n",
       "      <td>v85t7c</td>\n",
       "      <td>The bartender says, “You come in here pretty o...</td>\n",
       "      <td>docmoonlight</td>\n",
       "      <td>https://www.reddit.com/r/dadjokes/comments/v85...</td>\n",
       "      <td>255</td>\n",
       "      <td>8181</td>\n",
       "      <td>0</td>\n",
       "      <td>None</td>\n",
       "      <td>www.reddit.com</td>\n",
       "    </tr>\n",
       "    <tr>\n",
       "      <th>593</th>\n",
       "      <td>I dumped my last girlfriend because she was a ...</td>\n",
       "      <td>7284</td>\n",
       "      <td>v6u0oj</td>\n",
       "      <td>I should've known sooner. There were red flags...</td>\n",
       "      <td>scott3845</td>\n",
       "      <td>https://www.reddit.com/r/dadjokes/comments/v6u...</td>\n",
       "      <td>185</td>\n",
       "      <td>7284</td>\n",
       "      <td>0</td>\n",
       "      <td>None</td>\n",
       "      <td>www.reddit.com</td>\n",
       "    </tr>\n",
       "    <tr>\n",
       "      <th>674</th>\n",
       "      <td>What’s the difference between a tuna fish, a p...</td>\n",
       "      <td>7166</td>\n",
       "      <td>v6jj7e</td>\n",
       "      <td>You can’t tuna fish, but you can tuna piano…</td>\n",
       "      <td>DarlingLee</td>\n",
       "      <td>https://www.reddit.com/r/dadjokes/comments/v6j...</td>\n",
       "      <td>312</td>\n",
       "      <td>7166</td>\n",
       "      <td>0</td>\n",
       "      <td>None</td>\n",
       "      <td>www.reddit.com</td>\n",
       "    </tr>\n",
       "  </tbody>\n",
       "</table>\n",
       "</div>"
      ],
      "text/plain": [
       "                                                 title  score      id  \\\n",
       "758  Mate called the Animal Welfare today and said,...   8559  v61uqw   \n",
       "205                  This sub is really going downhill   8350  v8to3w   \n",
       "340  A horse walks into a bar and orders a pint of ...   8181  v85t7c   \n",
       "593  I dumped my last girlfriend because she was a ...   7284  v6u0oj   \n",
       "674  What’s the difference between a tuna fish, a p...   7166  v6jj7e   \n",
       "\n",
       "                                              selftext         author  \\\n",
       "758  &#x200B;\\n\\n\"That's terrible,\" she replied, \"A...  StephenGTS125   \n",
       "205                    https://i.imgur.com/LTic1Aq.jpg  chad-beer-316   \n",
       "340  The bartender says, “You come in here pretty o...   docmoonlight   \n",
       "593  I should've known sooner. There were red flags...      scott3845   \n",
       "674       You can’t tuna fish, but you can tuna piano…     DarlingLee   \n",
       "\n",
       "                                                   url  num_comments  upvotes  \\\n",
       "758  https://www.reddit.com/r/dadjokes/comments/v61...           100     8559   \n",
       "205  https://www.reddit.com/r/dadjokes/comments/v8t...           145     8350   \n",
       "340  https://www.reddit.com/r/dadjokes/comments/v85...           255     8181   \n",
       "593  https://www.reddit.com/r/dadjokes/comments/v6u...           185     7284   \n",
       "674  https://www.reddit.com/r/dadjokes/comments/v6j...           312     7166   \n",
       "\n",
       "     downvotes category       dad_jokes  \n",
       "758          0     None  www.reddit.com  \n",
       "205          0     None  www.reddit.com  \n",
       "340          0     None  www.reddit.com  \n",
       "593          0     None  www.reddit.com  \n",
       "674          0     None  www.reddit.com  "
      ]
     },
     "execution_count": 9,
     "metadata": {
     },
     "output_type": "execute_result"
    }
   ],
   "source": [
    "posts_df.sort_values(by='score', ascending=False).head(5)"
   ]
  },
  {
   "cell_type": "code",
   "execution_count": 21,
   "metadata": {
    "collapsed": false
   },
   "outputs": [
   ],
   "source": [
    "posts_df['dadjokes'] = posts_df['title'] + posts_df['selftext']\n",
    "posts_df['dadjokes'].to_csv('dadjokes.csv', index=False)"
   ]
  },
  {
   "cell_type": "code",
   "execution_count": 0,
   "metadata": {
    "collapsed": false
   },
   "outputs": [
   ],
   "source": [
   ]
  }
 ],
 "metadata": {
  "kernelspec": {
   "display_name": "Python (nlp_env)",
   "language": "python",
   "metadata": {
    "debugger": true
   },
   "name": "nlp_env",
   "resource_dir": "/projects/0ddeade5-3577-4fe8-8cd6-8a0cb653428e/.local/share/jupyter/kernels/nlp_env"
  },
  "language_info": {
   "codemirror_mode": {
    "name": "ipython",
    "version": 3
   },
   "file_extension": ".py",
   "mimetype": "text/x-python",
   "name": "python",
   "nbconvert_exporter": "python",
   "pygments_lexer": "ipython3",
   "version": "3.8.13"
  }
 },
 "nbformat": 4,
 "nbformat_minor": 4
}