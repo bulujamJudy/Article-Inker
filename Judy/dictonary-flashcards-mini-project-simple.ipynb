{
 "cells": [
  {
   "cell_type": "markdown",
   "metadata": {
    "collapsed": false
   },
   "source": [
    "<h1>Flash Card Mini Project</h1>\n",
    "This is a project covering a range of python topics, from storage to functions. This lets you define flashcards, then test your knowledge against them.\n",
    "\n",
    "This project is broken into 3 parts. The first covers creating and storing the flashcards, the second covers creating the loop, and the third covers validating the input"
   ]
  },
  {
   "cell_type": "markdown",
   "metadata": {
    "collapsed": false
   },
   "source": [
    "<h3>The Flashcards</h3>"
   ]
  },
  {
   "cell_type": "markdown",
   "metadata": {
    "collapsed": false
   },
   "source": [
    "In python, we can create a dictionary like this:"
   ]
  },
  {
   "cell_type": "code",
   "execution_count": 2,
   "metadata": {
    "collapsed": false,
    "vscode": {
     "languageId": "plaintext"
    }
   },
   "outputs": [
   ],
   "source": [
    "dict = {'hello':'annyeonghaseyo', 'whatsup':'wascheuaeb'}"
   ]
  },
  {
   "cell_type": "markdown",
   "metadata": {
    "collapsed": false
   },
   "source": [
    "Notice the curly braces, which denote a dictionary, and the colon, which pairs the key and the value. The values paired together can be anything.\n",
    "\n",
    "This pairing allows us to access the value like this (and we can print with the print() statement):\n",
    "\n"
   ]
  },
  {
   "cell_type": "code",
   "execution_count": 3,
   "metadata": {
    "collapsed": false,
    "vscode": {
     "languageId": "plaintext"
    }
   },
   "outputs": [
    {
     "name": "stdout",
     "output_type": "stream",
     "text": [
      "wascheuaeb\n"
     ]
    }
   ],
   "source": [
    "print(dict['whatsup'])"
   ]
  },
  {
   "cell_type": "markdown",
   "metadata": {
    "collapsed": false
   },
   "source": [
    "Aditionally, we can add an entry like this:"
   ]
  },
  {
   "cell_type": "code",
   "execution_count": 4,
   "metadata": {
    "collapsed": false,
    "vscode": {
     "languageId": "plaintext"
    }
   },
   "outputs": [
    {
     "name": "stdout",
     "output_type": "stream",
     "text": [
      "{'hello': 'annyeonghaseyo', 'whatsup': 'wascheuaeb', 'good morning': 'joh-eun achim'}\n"
     ]
    }
   ],
   "source": [
    "dict['good morning'] = 'joh-eun achim'\n",
    "print(dict)"
   ]
  },
  {
   "cell_type": "markdown",
   "metadata": {
    "collapsed": false
   },
   "source": [
    "And finally, we can remove an entry like this:"
   ]
  },
  {
   "cell_type": "code",
   "execution_count": 5,
   "metadata": {
    "collapsed": false,
    "vscode": {
     "languageId": "plaintext"
    }
   },
   "outputs": [
    {
     "name": "stdout",
     "output_type": "stream",
     "text": [
      "{'hello': 'annyeonghaseyo', 'whatsup': 'wascheuaeb'}\n"
     ]
    }
   ],
   "source": [
    "del dict['good morning']\n",
    "print(dict)"
   ]
  },
  {
   "cell_type": "markdown",
   "metadata": {
    "collapsed": false
   },
   "source": [
    "Now make a dictionary of the flashcards (name it flashcards so other code syncs together) (the definition should be the key)"
   ]
  },
  {
   "cell_type": "code",
   "execution_count": 6,
   "metadata": {
    "collapsed": false,
    "vscode": {
     "languageId": "plaintext"
    }
   },
   "outputs": [
   ],
   "source": [
    "flashcards = {'hello':'annyeonghaseyo', 'whatsup':'wascheuaeb', 'good morning':'joh-eun achim'}"
   ]
  },
  {
   "cell_type": "markdown",
   "metadata": {
    "collapsed": false
   },
   "source": [
    "<h1>Running the loop</h1>\n",
    "\n"
   ]
  },
  {
   "cell_type": "markdown",
   "metadata": {
    "collapsed": false
   },
   "source": [
    "For this section, we will be creating the game loop. To do that, we need a dictionary. A sample of that is supplied here (make sure to run the next cell, but you don't need to do anything with it)\n",
    "\n"
   ]
  },
  {
   "cell_type": "code",
   "execution_count": 7,
   "metadata": {
    "collapsed": false,
    "vscode": {
     "languageId": "plaintext"
    }
   },
   "outputs": [
   ],
   "source": [
    "flashcards = {'hello':'annyeonghaseyo', 'whatsup':'wascheuaeb', 'good morning':'joh-eun achim'}"
   ]
  },
  {
   "cell_type": "markdown",
   "metadata": {
    "collapsed": false
   },
   "source": [
    "When we have this dictionary, we can run through it with a for loop like this:\n",
    "\n"
   ]
  },
  {
   "cell_type": "code",
   "execution_count": 7,
   "metadata": {
    "collapsed": false,
    "scrolled": true,
    "vscode": {
     "languageId": "plaintext"
    }
   },
   "outputs": [
    {
     "name": "stdout",
     "output_type": "stream",
     "text": [
      "hello annyeonghaseyo\n",
      "whatsup wascheuaeb\n",
      "good morning joh-eun achim\n"
     ]
    }
   ],
   "source": [
    "flashcards = {'hello':'annyeonghaseyo', 'whatsup':'wascheuaeb', 'good morning':'joh-eun achim'}\n",
    "for English, Korean in flashcards.items():\n",
    "    print(English, Korean)"
   ]
  },
  {
   "cell_type": "markdown",
   "metadata": {
    "collapsed": false
   },
   "source": [
    "This loops through each pair in the dictionary, saving the key to the variable key, and the value to the variable value\n",
    "\n",
    "Now that we have the keys, we can collect the user's guess using the input function and assign the result to a variable"
   ]
  },
  {
   "cell_type": "code",
   "execution_count": 0,
   "metadata": {
    "collapsed": false,
    "vscode": {
     "languageId": "plaintext"
    }
   },
   "outputs": [
   ],
   "source": [
    "# guess = input(\"> )"
   ]
  },
  {
   "cell_type": "markdown",
   "metadata": {
    "collapsed": false
   },
   "source": [
    "But how will the student know what to write? To adress this, the input function allows us to give a prompt"
   ]
  },
  {
   "cell_type": "code",
   "execution_count": 0,
   "metadata": {
    "collapsed": false,
    "vscode": {
     "languageId": "plaintext"
    }
   },
   "outputs": [
   ],
   "source": [
    "guess = input('Enter your guess: ')"
   ]
  },
  {
   "cell_type": "markdown",
   "metadata": {
    "collapsed": false
   },
   "source": [
    "Now you can put it together to make the loop:"
   ]
  },
  {
   "cell_type": "code",
   "execution_count": 3,
   "metadata": {
    "cocalc": {
     "outputs": {
      "1": {
       "name": "input",
       "opts": {
        "password": false,
        "prompt": "Enter your guess: "
       },
       "output_type": "stream",
       "value": "TO STUDY"
      },
      "3": {
       "name": "input",
       "opts": {
        "password": false,
        "prompt": "Enter your guess: "
       },
       "output_type": "stream",
       "value": "to eat"
      },
      "5": {
       "name": "input",
       "opts": {
        "password": false,
        "prompt": "Enter your guess: "
       },
       "output_type": "stream",
       "value": "to Eat"
      }
     }
    },
    "collapsed": false,
    "scrolled": true,
    "vscode": {
     "languageId": "plaintext"
    }
   },
   "outputs": [
    {
     "name": "stdout",
     "output_type": "stream",
     "text": [
      "estudiar\n"
     ]
    },
    {
     "name": "stdout",
     "output_type": "stream",
     "text": "Enter your guess:  TO STUDY"
    },
    {
     "name": "stdout",
     "output_type": "stream",
     "text": [
      "Good job!\n",
      "hablar\n"
     ]
    },
    {
     "name": "stdout",
     "output_type": "stream",
     "text": "Enter your guess:  to eat"
    },
    {
     "name": "stdout",
     "output_type": "stream",
     "text": [
      "Incorrect! The answer was: to talk\n",
      "comer\n"
     ]
    },
    {
     "name": "stdout",
     "output_type": "stream",
     "text": "Enter your guess:  to Eat"
    },
    {
     "name": "stdout",
     "output_type": "stream",
     "text": [
      "Good job!\n"
     ]
    }
   ],
   "source": [
    "#i changed these to spansish only bc i know vocab in that language, we can totally change it later it's just easier to type out for now\n",
    "#alright no problem\n",
    "flashcards = {\n",
    "    'estudiar': 'to study',\n",
    "    'hablar': 'to talk',\n",
    "    'comer': 'to eat'}\n",
    "for Spanish, English in flashcards.items():\n",
    "    print(Spanish)\n",
    "    guess = input('Enter your guess: ').lower()\n",
    "    answer = English.lower()\n",
    "    if guess == answer:\n",
    "        print('Good job!')\n",
    "    else:\n",
    "        print('Incorrect! The answer was:', answer)"
   ]
  },
  {
   "cell_type": "markdown",
   "metadata": {
    "collapsed": false
   },
   "source": [
    "when your piece works, add the code check(v1,v2) to the end of your loop (where v1 is the name of your guess variable, and v2 is the name of the answer)"
   ]
  },
  {
   "cell_type": "markdown",
   "metadata": {
    "collapsed": false
   },
   "source": [
    "<h1>Validating guesses</h1>"
   ]
  },
  {
   "cell_type": "markdown",
   "metadata": {
    "collapsed": false
   },
   "source": [
    "We can compare our guess with the answer using an if else block"
   ]
  },
  {
   "cell_type": "code",
   "execution_count": 4,
   "metadata": {
    "collapsed": false,
    "vscode": {
     "languageId": "plaintext"
    }
   },
   "outputs": [
    {
     "name": "stdout",
     "output_type": "stream",
     "text": [
      "To bad. The answer was: Python is the best language!\n"
     ]
    }
   ],
   "source": [
    "guess = 'English is a good language'\n",
    "answer = 'Python is the best language!'\n",
    "if guess == answer:\n",
    "    print('goood job! you got it right!')\n",
    "else:\n",
    "    print('To bad. The answer was:', answer) # note: when the print function is given 2 inputs, it prints both seperated by a space"
   ]
  },
  {
   "cell_type": "markdown",
   "metadata": {
    "collapsed": false
   },
   "source": [
    "But what if our user enters 'Python' and we wanted 'python' or the other way around? to do this, we make the cases match:"
   ]
  },
  {
   "cell_type": "code",
   "execution_count": 5,
   "metadata": {
    "collapsed": false,
    "vscode": {
     "languageId": "plaintext"
    }
   },
   "outputs": [
    {
     "name": "stdout",
     "output_type": "stream",
     "text": [
      "python\n",
      "python\n",
      "True\n"
     ]
    }
   ],
   "source": [
    "print('PythOn'.lower())\n",
    "print('python'.lower())\n",
    "print('PythOn'.lower()=='python'.lower())"
   ]
  },
  {
   "cell_type": "markdown",
   "metadata": {
    "collapsed": false
   },
   "source": [
    "To make this easier, we can package this all into a function, which we can define as follows:"
   ]
  },
  {
   "cell_type": "code",
   "execution_count": 6,
   "metadata": {
    "collapsed": false,
    "vscode": {
     "languageId": "plaintext"
    }
   },
   "outputs": [
   ],
   "source": [
    "def func():\n",
    "    pass # pass just means there's nothing here - stops the code from breaking"
   ]
  },
  {
   "cell_type": "markdown",
   "metadata": {
    "collapsed": false
   },
   "source": [
    "A function can also take in parameters (the number isn't limited):"
   ]
  },
  {
   "cell_type": "code",
   "execution_count": 7,
   "metadata": {
    "collapsed": false,
    "vscode": {
     "languageId": "plaintext"
    }
   },
   "outputs": [
   ],
   "source": [
    "def param(arg0, arg1):\n",
    "    print(arg0, arg1)"
   ]
  },
  {
   "cell_type": "markdown",
   "metadata": {
    "collapsed": false
   },
   "source": [
    "Then we can call it like this:"
   ]
  },
  {
   "cell_type": "code",
   "execution_count": 8,
   "metadata": {
    "collapsed": false,
    "vscode": {
     "languageId": "plaintext"
    }
   },
   "outputs": [
    {
     "name": "stdout",
     "output_type": "stream",
     "text": [
      "AI CAMP\n"
     ]
    }
   ],
   "source": [
    "param('AI','CAMP')"
   ]
  },
  {
   "cell_type": "markdown",
   "metadata": {
    "collapsed": false
   },
   "source": [
    "Additionally, a function can hand back a value using a return statement"
   ]
  },
  {
   "cell_type": "code",
   "execution_count": 9,
   "metadata": {
    "collapsed": false,
    "vscode": {
     "languageId": "plaintext"
    }
   },
   "outputs": [
   ],
   "source": [
    "def ret():\n",
    "    return 'Bananas'"
   ]
  },
  {
   "cell_type": "markdown",
   "metadata": {
    "collapsed": false
   },
   "source": [
    "This value can then be accessed as follows: (If you use parameters, the value can change based on the situation)"
   ]
  },
  {
   "cell_type": "code",
   "execution_count": 10,
   "metadata": {
    "collapsed": false,
    "vscode": {
     "languageId": "plaintext"
    }
   },
   "outputs": [
    {
     "name": "stdout",
     "output_type": "stream",
     "text": [
      "Bananas\n"
     ]
    }
   ],
   "source": [
    "val = ret()\n",
    "print(val)"
   ]
  },
  {
   "cell_type": "markdown",
   "metadata": {
    "collapsed": false
   },
   "source": [
    "If you have a variable, you can also increment it in a function, like this"
   ]
  },
  {
   "cell_type": "code",
   "execution_count": 3,
   "metadata": {
    "collapsed": false,
    "vscode": {
     "languageId": "plaintext"
    }
   },
   "outputs": [
    {
     "data": {
      "text/plain": [
       "0"
      ]
     },
     "execution_count": 3,
     "metadata": {
     },
     "output_type": "execute_result"
    }
   ],
   "source": [
    "c=0\n",
    "def inc():\n",
    "    c = 0\n",
    "    c += 1\n",
    "    \n",
    "inc()\n",
    "c"
   ]
  },
  {
   "cell_type": "markdown",
   "metadata": {
    "collapsed": false
   },
   "source": [
    "Then print it like this"
   ]
  },
  {
   "cell_type": "code",
   "execution_count": 4,
   "metadata": {
    "collapsed": false,
    "vscode": {
     "languageId": "plaintext"
    }
   },
   "outputs": [
    {
     "name": "stdout",
     "output_type": "stream",
     "text": [
      "counter value: 0\n"
     ]
    }
   ],
   "source": [
    "print('counter value:', counter)"
   ]
  },
  {
   "cell_type": "markdown",
   "metadata": {
    "collapsed": false
   },
   "source": [
    "Now put this all together: (if you want to use return, you can work to integrate it with your team)"
   ]
  },
  {
   "cell_type": "code",
   "execution_count": 0,
   "metadata": {
    "collapsed": false,
    "vscode": {
     "languageId": "plaintext"
    }
   },
   "outputs": [
   ],
   "source": [
    "flashcards = {\n",
    "    'estudiar': 'to study',\n",
    "    'hablar': 'to talk',\n",
    "    'comer': 'to eat'}\n",
    "for Spanish, English in flashcards.items():\n",
    "    print(Spanish)\n",
    "    guess = input('Enter your guess: ').lower()\n",
    "    answer = English.lower()\n",
    "    if guess == answer:\n",
    "        print('Good job!')\n",
    "    else:\n",
    "        print('Incorrect! The answer was:', answer)\n"
   ]
  }
 ],
 "metadata": {
  "kernelspec": {
   "display_name": "Python (nlp_env)",
   "language": "python",
   "metadata": {
    "debugger": true
   },
   "name": "nlp_env",
   "resource_dir": "/projects/0ddeade5-3577-4fe8-8cd6-8a0cb653428e/.local/share/jupyter/kernels/nlp_env"
  },
  "language_info": {
   "codemirror_mode": {
    "name": "ipython",
    "version": 3
   },
   "file_extension": ".py",
   "mimetype": "text/x-python",
   "name": "python",
   "nbconvert_exporter": "python",
   "pygments_lexer": "ipython3",
   "version": "3.8.13"
  },
  "orig_nbformat": 4
 },
 "nbformat": 4,
 "nbformat_minor": 4
}